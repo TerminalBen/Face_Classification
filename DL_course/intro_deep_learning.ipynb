{
 "cells": [
  {
   "cell_type": "markdown",
   "metadata": {},
   "source": [
    "# INTRODUCTION TO dEEp LEARNING"
   ]
  },
  {
   "cell_type": "markdown",
   "metadata": {},
   "source": [
    "Importing the packages and setting up the os environ(because i have no nvidia drivers)"
   ]
  },
  {
   "cell_type": "code",
   "execution_count": 2,
   "metadata": {},
   "outputs": [
    {
     "name": "stderr",
     "output_type": "stream",
     "text": [
      "2022-02-02 19:00:19.923512: W tensorflow/stream_executor/platform/default/dso_loader.cc:64] Could not load dynamic library 'libcudart.so.11.0'; dlerror: libcudart.so.11.0: cannot open shared object file: No such file or directory\n",
      "2022-02-02 19:00:19.923532: I tensorflow/stream_executor/cuda/cudart_stub.cc:29] Ignore above cudart dlerror if you do not have a GPU set up on your machine.\n"
     ]
    }
   ],
   "source": [
    "from tensorflow import keras\n",
    "from tensorflow.keras import layers\n",
    "import os\n",
    "os.environ['TF_CPP_MIN_LOG_LEVEL'] = '2'"
   ]
  },
  {
   "cell_type": "markdown",
   "metadata": {},
   "source": [
    "Creating a neuron with Suqnetial - 1 output and 3 inputs. After defining the neural network it is ready for training."
   ]
  },
  {
   "cell_type": "code",
   "execution_count": 6,
   "metadata": {},
   "outputs": [],
   "source": [
    "model = keras.Sequential([layers.Dense(units=1,input_shape=[3])])"
   ]
  },
  {
   "cell_type": "markdown",
   "metadata": {},
   "source": [
    "### Deep Neural Networks"
   ]
  },
  {
   "cell_type": "markdown",
   "metadata": {},
   "source": [
    "Produces a dense network of 2 layers. 2 hidden layers (the first one takes the inputs), and an output. the first hidden layer has 4 units the second has 3."
   ]
  },
  {
   "cell_type": "code",
   "execution_count": 3,
   "metadata": {},
   "outputs": [
    {
     "name": "stderr",
     "output_type": "stream",
     "text": [
      "2022-02-02 19:00:26.820580: W tensorflow/stream_executor/platform/default/dso_loader.cc:64] Could not load dynamic library 'libcuda.so.1'; dlerror: libcuda.so.1: cannot open shared object file: No such file or directory\n",
      "2022-02-02 19:00:26.820626: W tensorflow/stream_executor/cuda/cuda_driver.cc:269] failed call to cuInit: UNKNOWN ERROR (303)\n",
      "2022-02-02 19:00:26.820644: I tensorflow/stream_executor/cuda/cuda_diagnostics.cc:156] kernel driver does not appear to be running on this host (desktop): /proc/driver/nvidia/version does not exist\n",
      "2022-02-02 19:00:26.820861: I tensorflow/core/platform/cpu_feature_guard.cc:151] This TensorFlow binary is optimized with oneAPI Deep Neural Network Library (oneDNN) to use the following CPU instructions in performance-critical operations:  AVX2 FMA\n",
      "To enable them in other operations, rebuild TensorFlow with the appropriate compiler flags.\n"
     ]
    }
   ],
   "source": [
    "model1 = keras.Sequential([\n",
    "    # the hidden ReLU layers\n",
    "    layers.Dense(units=4, activation='relu', input_shape=[2]),\n",
    "    layers.Dense(units=3, activation='relu'),\n",
    "    # the linear output layer \n",
    "    layers.Dense(units=1),\n",
    "])"
   ]
  },
  {
   "cell_type": "markdown",
   "metadata": {},
   "source": [
    "### Optimizer & loss function (Stochastic Gradient Descent & MAE)"
   ]
  },
  {
   "cell_type": "markdown",
   "metadata": {},
   "source": [
    "#### Thee loss function measures the disparity between the target's true value and the value of the model predicts(MEasures how good the predictions are)"
   ]
  },
  {
   "cell_type": "markdown",
   "metadata": {},
   "source": [
    "#### An \"optimizer\" that can tell the network how to change its weights. The optimizer is an algorithm that adjusts the weights to minimize the loss."
   ]
  },
  {
   "cell_type": "markdown",
   "metadata": {},
   "source": [
    "Adam is an SGD algorithm that has an adaptive learning rate that makes it suitable for most problems without any parameter tuning (it is \"self tuning\", in a sense). Adam is a great general-purpose optimizer."
   ]
  },
  {
   "cell_type": "code",
   "execution_count": 4,
   "metadata": {},
   "outputs": [
    {
     "data": {
      "text/html": [
       "<div>\n",
       "<style scoped>\n",
       "    .dataframe tbody tr th:only-of-type {\n",
       "        vertical-align: middle;\n",
       "    }\n",
       "\n",
       "    .dataframe tbody tr th {\n",
       "        vertical-align: top;\n",
       "    }\n",
       "\n",
       "    .dataframe thead th {\n",
       "        text-align: right;\n",
       "    }\n",
       "</style>\n",
       "<table border=\"1\" class=\"dataframe\">\n",
       "  <thead>\n",
       "    <tr style=\"text-align: right;\">\n",
       "      <th></th>\n",
       "      <th>fixed acidity</th>\n",
       "      <th>volatile acidity</th>\n",
       "      <th>citric acid</th>\n",
       "      <th>residual sugar</th>\n",
       "      <th>chlorides</th>\n",
       "      <th>free sulfur dioxide</th>\n",
       "      <th>total sulfur dioxide</th>\n",
       "      <th>density</th>\n",
       "      <th>pH</th>\n",
       "      <th>sulphates</th>\n",
       "      <th>alcohol</th>\n",
       "      <th>quality</th>\n",
       "    </tr>\n",
       "  </thead>\n",
       "  <tbody>\n",
       "    <tr>\n",
       "      <th>1109</th>\n",
       "      <td>10.8</td>\n",
       "      <td>0.470</td>\n",
       "      <td>0.43</td>\n",
       "      <td>2.10</td>\n",
       "      <td>0.171</td>\n",
       "      <td>27.0</td>\n",
       "      <td>66.0</td>\n",
       "      <td>0.99820</td>\n",
       "      <td>3.17</td>\n",
       "      <td>0.76</td>\n",
       "      <td>10.8</td>\n",
       "      <td>6</td>\n",
       "    </tr>\n",
       "    <tr>\n",
       "      <th>1032</th>\n",
       "      <td>8.1</td>\n",
       "      <td>0.820</td>\n",
       "      <td>0.00</td>\n",
       "      <td>4.10</td>\n",
       "      <td>0.095</td>\n",
       "      <td>5.0</td>\n",
       "      <td>14.0</td>\n",
       "      <td>0.99854</td>\n",
       "      <td>3.36</td>\n",
       "      <td>0.53</td>\n",
       "      <td>9.6</td>\n",
       "      <td>5</td>\n",
       "    </tr>\n",
       "    <tr>\n",
       "      <th>1002</th>\n",
       "      <td>9.1</td>\n",
       "      <td>0.290</td>\n",
       "      <td>0.33</td>\n",
       "      <td>2.05</td>\n",
       "      <td>0.063</td>\n",
       "      <td>13.0</td>\n",
       "      <td>27.0</td>\n",
       "      <td>0.99516</td>\n",
       "      <td>3.26</td>\n",
       "      <td>0.84</td>\n",
       "      <td>11.7</td>\n",
       "      <td>7</td>\n",
       "    </tr>\n",
       "    <tr>\n",
       "      <th>487</th>\n",
       "      <td>10.2</td>\n",
       "      <td>0.645</td>\n",
       "      <td>0.36</td>\n",
       "      <td>1.80</td>\n",
       "      <td>0.053</td>\n",
       "      <td>5.0</td>\n",
       "      <td>14.0</td>\n",
       "      <td>0.99820</td>\n",
       "      <td>3.17</td>\n",
       "      <td>0.42</td>\n",
       "      <td>10.0</td>\n",
       "      <td>6</td>\n",
       "    </tr>\n",
       "  </tbody>\n",
       "</table>\n",
       "</div>"
      ],
      "text/plain": [
       "      fixed acidity  volatile acidity  citric acid  residual sugar  chlorides  \\\n",
       "1109           10.8             0.470         0.43            2.10      0.171   \n",
       "1032            8.1             0.820         0.00            4.10      0.095   \n",
       "1002            9.1             0.290         0.33            2.05      0.063   \n",
       "487            10.2             0.645         0.36            1.80      0.053   \n",
       "\n",
       "      free sulfur dioxide  total sulfur dioxide  density    pH  sulphates  \\\n",
       "1109                 27.0                  66.0  0.99820  3.17       0.76   \n",
       "1032                  5.0                  14.0  0.99854  3.36       0.53   \n",
       "1002                 13.0                  27.0  0.99516  3.26       0.84   \n",
       "487                   5.0                  14.0  0.99820  3.17       0.42   \n",
       "\n",
       "      alcohol  quality  \n",
       "1109     10.8        6  \n",
       "1032      9.6        5  \n",
       "1002     11.7        7  \n",
       "487      10.0        6  "
      ]
     },
     "metadata": {},
     "output_type": "display_data"
    }
   ],
   "source": [
    "import pandas as pd\n",
    "from IPython.display import display\n",
    "\n",
    "red_wine = pd.read_csv('red-wine.csv')\n",
    "\n",
    "# Create training and validation splits\n",
    "df_train = red_wine.sample(frac=0.7, random_state=0)\n",
    "df_valid = red_wine.drop(df_train.index)\n",
    "display(df_train.head(4))\n",
    "\n",
    "# Scale to [0, 1]\n",
    "max_ = df_train.max(axis=0)\n",
    "min_ = df_train.min(axis=0)\n",
    "df_train = (df_train - min_) / (max_ - min_)\n",
    "df_valid = (df_valid - min_) / (max_ - min_)\n",
    "\n",
    "# Split features and target\n",
    "X_train = df_train.drop('quality', axis=1)\n",
    "X_valid = df_valid.drop('quality', axis=1)\n",
    "y_train = df_train['quality']\n",
    "y_valid = df_valid['quality']"
   ]
  },
  {
   "cell_type": "code",
   "execution_count": 6,
   "metadata": {},
   "outputs": [
    {
     "name": "stdout",
     "output_type": "stream",
     "text": [
      "(1119, 11)\n"
     ]
    }
   ],
   "source": [
    "print(X_train.shape)"
   ]
  },
  {
   "cell_type": "code",
   "execution_count": 5,
   "metadata": {},
   "outputs": [],
   "source": [
    "model = keras.Sequential([\n",
    "    layers.Dense(512, activation='relu', input_shape=[11]),\n",
    "    layers.Dense(512, activation='relu'),\n",
    "    layers.Dense(512, activation='relu'),\n",
    "    layers.Dense(1),\n",
    "])"
   ]
  },
  {
   "cell_type": "code",
   "execution_count": 7,
   "metadata": {},
   "outputs": [],
   "source": [
    "model.compile(\n",
    "    optimizer='adam',\n",
    "    loss='mae',\n",
    ")"
   ]
  },
  {
   "cell_type": "code",
   "execution_count": 18,
   "metadata": {},
   "outputs": [
    {
     "name": "stdout",
     "output_type": "stream",
     "text": [
      "Epoch 1/200\n",
      "5/5 [==============================] - 0s 23ms/step - loss: 0.0822 - val_loss: 0.0948\n",
      "Epoch 2/200\n",
      "5/5 [==============================] - 0s 14ms/step - loss: 0.0806 - val_loss: 0.0975\n",
      "Epoch 3/200\n",
      "5/5 [==============================] - 0s 15ms/step - loss: 0.0808 - val_loss: 0.0945\n",
      "Epoch 4/200\n",
      "5/5 [==============================] - 0s 14ms/step - loss: 0.0797 - val_loss: 0.0935\n",
      "Epoch 5/200\n",
      "5/5 [==============================] - 0s 14ms/step - loss: 0.0793 - val_loss: 0.0934\n",
      "Epoch 6/200\n",
      "5/5 [==============================] - 0s 16ms/step - loss: 0.0774 - val_loss: 0.0916\n",
      "Epoch 7/200\n",
      "5/5 [==============================] - 0s 15ms/step - loss: 0.0785 - val_loss: 0.0922\n",
      "Epoch 8/200\n",
      "5/5 [==============================] - 0s 15ms/step - loss: 0.0758 - val_loss: 0.0987\n",
      "Epoch 9/200\n",
      "5/5 [==============================] - 0s 16ms/step - loss: 0.0794 - val_loss: 0.1022\n",
      "Epoch 10/200\n",
      "5/5 [==============================] - 0s 16ms/step - loss: 0.0826 - val_loss: 0.1003\n",
      "Epoch 11/200\n",
      "5/5 [==============================] - 0s 16ms/step - loss: 0.0822 - val_loss: 0.0905\n",
      "Epoch 12/200\n",
      "5/5 [==============================] - 0s 16ms/step - loss: 0.0773 - val_loss: 0.0895\n",
      "Epoch 13/200\n",
      "5/5 [==============================] - 0s 16ms/step - loss: 0.0779 - val_loss: 0.0911\n",
      "Epoch 14/200\n",
      "5/5 [==============================] - 0s 17ms/step - loss: 0.0764 - val_loss: 0.0900\n",
      "Epoch 15/200\n",
      "5/5 [==============================] - 0s 19ms/step - loss: 0.0751 - val_loss: 0.0912\n",
      "Epoch 16/200\n",
      "5/5 [==============================] - 0s 18ms/step - loss: 0.0754 - val_loss: 0.0909\n",
      "Epoch 17/200\n",
      "5/5 [==============================] - 0s 19ms/step - loss: 0.0746 - val_loss: 0.0905\n",
      "Epoch 18/200\n",
      "5/5 [==============================] - 0s 22ms/step - loss: 0.0743 - val_loss: 0.0939\n",
      "Epoch 19/200\n",
      "5/5 [==============================] - 0s 21ms/step - loss: 0.0743 - val_loss: 0.0980\n",
      "Epoch 20/200\n",
      "5/5 [==============================] - 0s 19ms/step - loss: 0.0773 - val_loss: 0.1022\n",
      "Epoch 21/200\n",
      "5/5 [==============================] - 0s 18ms/step - loss: 0.0817 - val_loss: 0.0916\n",
      "Epoch 22/200\n",
      "5/5 [==============================] - 0s 17ms/step - loss: 0.0749 - val_loss: 0.0893\n",
      "Epoch 23/200\n",
      "5/5 [==============================] - 0s 17ms/step - loss: 0.0747 - val_loss: 0.0900\n",
      "Epoch 24/200\n",
      "5/5 [==============================] - 0s 17ms/step - loss: 0.0728 - val_loss: 0.0906\n",
      "Epoch 25/200\n",
      "5/5 [==============================] - 0s 23ms/step - loss: 0.0710 - val_loss: 0.0904\n",
      "Epoch 26/200\n",
      "5/5 [==============================] - 0s 17ms/step - loss: 0.0706 - val_loss: 0.0916\n",
      "Epoch 27/200\n",
      "5/5 [==============================] - 0s 15ms/step - loss: 0.0709 - val_loss: 0.0910\n",
      "Epoch 28/200\n",
      "5/5 [==============================] - 0s 15ms/step - loss: 0.0730 - val_loss: 0.0940\n",
      "Epoch 29/200\n",
      "5/5 [==============================] - 0s 14ms/step - loss: 0.0732 - val_loss: 0.0909\n",
      "Epoch 30/200\n",
      "5/5 [==============================] - 0s 14ms/step - loss: 0.0702 - val_loss: 0.0941\n",
      "Epoch 31/200\n",
      "5/5 [==============================] - 0s 15ms/step - loss: 0.0714 - val_loss: 0.0912\n",
      "Epoch 32/200\n",
      "5/5 [==============================] - 0s 15ms/step - loss: 0.0706 - val_loss: 0.0903\n",
      "Epoch 33/200\n",
      "5/5 [==============================] - 0s 14ms/step - loss: 0.0699 - val_loss: 0.0916\n",
      "Epoch 34/200\n",
      "5/5 [==============================] - 0s 15ms/step - loss: 0.0701 - val_loss: 0.0911\n",
      "Epoch 35/200\n",
      "5/5 [==============================] - 0s 16ms/step - loss: 0.0694 - val_loss: 0.0925\n",
      "Epoch 36/200\n",
      "5/5 [==============================] - 0s 15ms/step - loss: 0.0688 - val_loss: 0.0933\n",
      "Epoch 37/200\n",
      "5/5 [==============================] - 0s 26ms/step - loss: 0.0686 - val_loss: 0.0914\n",
      "Epoch 38/200\n",
      "5/5 [==============================] - 0s 27ms/step - loss: 0.0693 - val_loss: 0.0909\n",
      "Epoch 39/200\n",
      "5/5 [==============================] - 0s 15ms/step - loss: 0.0679 - val_loss: 0.0923\n",
      "Epoch 40/200\n",
      "5/5 [==============================] - 0s 15ms/step - loss: 0.0691 - val_loss: 0.0905\n",
      "Epoch 41/200\n",
      "5/5 [==============================] - 0s 17ms/step - loss: 0.0734 - val_loss: 0.0914\n",
      "Epoch 42/200\n",
      "5/5 [==============================] - 0s 16ms/step - loss: 0.0720 - val_loss: 0.0941\n",
      "Epoch 43/200\n",
      "5/5 [==============================] - 0s 17ms/step - loss: 0.0697 - val_loss: 0.0946\n",
      "Epoch 44/200\n",
      "5/5 [==============================] - 0s 16ms/step - loss: 0.0675 - val_loss: 0.0957\n",
      "Epoch 45/200\n",
      "5/5 [==============================] - 0s 15ms/step - loss: 0.0683 - val_loss: 0.0933\n",
      "Epoch 46/200\n",
      "5/5 [==============================] - 0s 15ms/step - loss: 0.0669 - val_loss: 0.0972\n",
      "Epoch 47/200\n",
      "5/5 [==============================] - 0s 15ms/step - loss: 0.0697 - val_loss: 0.0932\n",
      "Epoch 48/200\n",
      "5/5 [==============================] - 0s 15ms/step - loss: 0.0683 - val_loss: 0.0921\n",
      "Epoch 49/200\n",
      "5/5 [==============================] - 0s 16ms/step - loss: 0.0667 - val_loss: 0.0900\n",
      "Epoch 50/200\n",
      "5/5 [==============================] - 0s 14ms/step - loss: 0.0653 - val_loss: 0.0895\n",
      "Epoch 51/200\n",
      "5/5 [==============================] - 0s 15ms/step - loss: 0.0652 - val_loss: 0.0918\n",
      "Epoch 52/200\n",
      "5/5 [==============================] - 0s 13ms/step - loss: 0.0643 - val_loss: 0.0923\n",
      "Epoch 53/200\n",
      "5/5 [==============================] - 0s 16ms/step - loss: 0.0654 - val_loss: 0.0900\n",
      "Epoch 54/200\n",
      "5/5 [==============================] - 0s 14ms/step - loss: 0.0647 - val_loss: 0.0930\n",
      "Epoch 55/200\n",
      "5/5 [==============================] - 0s 16ms/step - loss: 0.0681 - val_loss: 0.0936\n",
      "Epoch 56/200\n",
      "5/5 [==============================] - 0s 15ms/step - loss: 0.0688 - val_loss: 0.0920\n",
      "Epoch 57/200\n",
      "5/5 [==============================] - 0s 14ms/step - loss: 0.0660 - val_loss: 0.0992\n",
      "Epoch 58/200\n",
      "5/5 [==============================] - 0s 14ms/step - loss: 0.0715 - val_loss: 0.0956\n",
      "Epoch 59/200\n",
      "5/5 [==============================] - 0s 15ms/step - loss: 0.0676 - val_loss: 0.0902\n",
      "Epoch 60/200\n",
      "5/5 [==============================] - 0s 14ms/step - loss: 0.0670 - val_loss: 0.0903\n",
      "Epoch 61/200\n",
      "5/5 [==============================] - 0s 15ms/step - loss: 0.0659 - val_loss: 0.0915\n",
      "Epoch 62/200\n",
      "5/5 [==============================] - 0s 15ms/step - loss: 0.0635 - val_loss: 0.0915\n",
      "Epoch 63/200\n",
      "5/5 [==============================] - 0s 13ms/step - loss: 0.0642 - val_loss: 0.0946\n",
      "Epoch 64/200\n",
      "5/5 [==============================] - 0s 17ms/step - loss: 0.0642 - val_loss: 0.0929\n",
      "Epoch 65/200\n",
      "5/5 [==============================] - 0s 14ms/step - loss: 0.0635 - val_loss: 0.0925\n",
      "Epoch 66/200\n",
      "5/5 [==============================] - 0s 17ms/step - loss: 0.0634 - val_loss: 0.0943\n",
      "Epoch 67/200\n",
      "5/5 [==============================] - 0s 14ms/step - loss: 0.0658 - val_loss: 0.0909\n",
      "Epoch 68/200\n",
      "5/5 [==============================] - 0s 15ms/step - loss: 0.0628 - val_loss: 0.0928\n",
      "Epoch 69/200\n",
      "5/5 [==============================] - 0s 15ms/step - loss: 0.0604 - val_loss: 0.0908\n",
      "Epoch 70/200\n",
      "5/5 [==============================] - 0s 16ms/step - loss: 0.0592 - val_loss: 0.0911\n",
      "Epoch 71/200\n",
      "5/5 [==============================] - 0s 15ms/step - loss: 0.0597 - val_loss: 0.0937\n",
      "Epoch 72/200\n",
      "5/5 [==============================] - 0s 15ms/step - loss: 0.0616 - val_loss: 0.0927\n",
      "Epoch 73/200\n",
      "5/5 [==============================] - 0s 15ms/step - loss: 0.0606 - val_loss: 0.0948\n",
      "Epoch 74/200\n",
      "5/5 [==============================] - 0s 15ms/step - loss: 0.0623 - val_loss: 0.0933\n",
      "Epoch 75/200\n",
      "5/5 [==============================] - 0s 14ms/step - loss: 0.0637 - val_loss: 0.0908\n",
      "Epoch 76/200\n",
      "5/5 [==============================] - 0s 15ms/step - loss: 0.0608 - val_loss: 0.0941\n",
      "Epoch 77/200\n",
      "5/5 [==============================] - 0s 14ms/step - loss: 0.0621 - val_loss: 0.0954\n",
      "Epoch 78/200\n",
      "5/5 [==============================] - 0s 16ms/step - loss: 0.0616 - val_loss: 0.0915\n",
      "Epoch 79/200\n",
      "5/5 [==============================] - 0s 14ms/step - loss: 0.0613 - val_loss: 0.0923\n",
      "Epoch 80/200\n",
      "5/5 [==============================] - 0s 14ms/step - loss: 0.0631 - val_loss: 0.0912\n",
      "Epoch 81/200\n",
      "5/5 [==============================] - 0s 20ms/step - loss: 0.0603 - val_loss: 0.0914\n",
      "Epoch 82/200\n",
      "5/5 [==============================] - 0s 14ms/step - loss: 0.0604 - val_loss: 0.0879\n",
      "Epoch 83/200\n",
      "5/5 [==============================] - 0s 16ms/step - loss: 0.0588 - val_loss: 0.0897\n",
      "Epoch 84/200\n",
      "5/5 [==============================] - 0s 19ms/step - loss: 0.0571 - val_loss: 0.0926\n",
      "Epoch 85/200\n",
      "5/5 [==============================] - 0s 14ms/step - loss: 0.0579 - val_loss: 0.0913\n",
      "Epoch 86/200\n",
      "5/5 [==============================] - 0s 15ms/step - loss: 0.0571 - val_loss: 0.0907\n",
      "Epoch 87/200\n",
      "5/5 [==============================] - 0s 15ms/step - loss: 0.0583 - val_loss: 0.0923\n",
      "Epoch 88/200\n",
      "5/5 [==============================] - 0s 14ms/step - loss: 0.0558 - val_loss: 0.0898\n",
      "Epoch 89/200\n",
      "5/5 [==============================] - 0s 14ms/step - loss: 0.0568 - val_loss: 0.0917\n",
      "Epoch 90/200\n",
      "5/5 [==============================] - 0s 16ms/step - loss: 0.0588 - val_loss: 0.0937\n",
      "Epoch 91/200\n",
      "5/5 [==============================] - 0s 13ms/step - loss: 0.0607 - val_loss: 0.0921\n",
      "Epoch 92/200\n",
      "5/5 [==============================] - 0s 17ms/step - loss: 0.0605 - val_loss: 0.0913\n",
      "Epoch 93/200\n",
      "5/5 [==============================] - 0s 17ms/step - loss: 0.0570 - val_loss: 0.0898\n",
      "Epoch 94/200\n",
      "5/5 [==============================] - 0s 15ms/step - loss: 0.0560 - val_loss: 0.0917\n",
      "Epoch 95/200\n",
      "5/5 [==============================] - 0s 13ms/step - loss: 0.0543 - val_loss: 0.0935\n",
      "Epoch 96/200\n",
      "5/5 [==============================] - 0s 15ms/step - loss: 0.0562 - val_loss: 0.0896\n",
      "Epoch 97/200\n",
      "5/5 [==============================] - 0s 14ms/step - loss: 0.0589 - val_loss: 0.0913\n",
      "Epoch 98/200\n",
      "5/5 [==============================] - 0s 16ms/step - loss: 0.0552 - val_loss: 0.0903\n",
      "Epoch 99/200\n",
      "5/5 [==============================] - 0s 14ms/step - loss: 0.0534 - val_loss: 0.0891\n",
      "Epoch 100/200\n",
      "5/5 [==============================] - 0s 16ms/step - loss: 0.0525 - val_loss: 0.0911\n",
      "Epoch 101/200\n",
      "5/5 [==============================] - 0s 16ms/step - loss: 0.0529 - val_loss: 0.0911\n",
      "Epoch 102/200\n",
      "5/5 [==============================] - 0s 15ms/step - loss: 0.0525 - val_loss: 0.0926\n",
      "Epoch 103/200\n",
      "5/5 [==============================] - 0s 15ms/step - loss: 0.0533 - val_loss: 0.0896\n",
      "Epoch 104/200\n",
      "5/5 [==============================] - 0s 14ms/step - loss: 0.0525 - val_loss: 0.0912\n",
      "Epoch 105/200\n",
      "5/5 [==============================] - 0s 15ms/step - loss: 0.0530 - val_loss: 0.0929\n",
      "Epoch 106/200\n",
      "5/5 [==============================] - 0s 15ms/step - loss: 0.0544 - val_loss: 0.0922\n",
      "Epoch 107/200\n",
      "5/5 [==============================] - 0s 24ms/step - loss: 0.0539 - val_loss: 0.0901\n",
      "Epoch 108/200\n",
      "5/5 [==============================] - 0s 24ms/step - loss: 0.0513 - val_loss: 0.0969\n",
      "Epoch 109/200\n",
      "5/5 [==============================] - 0s 17ms/step - loss: 0.0530 - val_loss: 0.0922\n",
      "Epoch 110/200\n",
      "5/5 [==============================] - 0s 16ms/step - loss: 0.0571 - val_loss: 0.0943\n",
      "Epoch 111/200\n",
      "5/5 [==============================] - 0s 16ms/step - loss: 0.0560 - val_loss: 0.0930\n",
      "Epoch 112/200\n",
      "5/5 [==============================] - 0s 15ms/step - loss: 0.0527 - val_loss: 0.0912\n",
      "Epoch 113/200\n",
      "5/5 [==============================] - 0s 13ms/step - loss: 0.0550 - val_loss: 0.0954\n",
      "Epoch 114/200\n",
      "5/5 [==============================] - 0s 14ms/step - loss: 0.0566 - val_loss: 0.0997\n",
      "Epoch 115/200\n",
      "5/5 [==============================] - 0s 15ms/step - loss: 0.0575 - val_loss: 0.0984\n",
      "Epoch 116/200\n",
      "5/5 [==============================] - 0s 17ms/step - loss: 0.0585 - val_loss: 0.0975\n",
      "Epoch 117/200\n",
      "5/5 [==============================] - 0s 16ms/step - loss: 0.0569 - val_loss: 0.0947\n",
      "Epoch 118/200\n",
      "5/5 [==============================] - 0s 16ms/step - loss: 0.0533 - val_loss: 0.0921\n",
      "Epoch 119/200\n",
      "5/5 [==============================] - 0s 15ms/step - loss: 0.0529 - val_loss: 0.0976\n",
      "Epoch 120/200\n",
      "5/5 [==============================] - 0s 14ms/step - loss: 0.0546 - val_loss: 0.0916\n",
      "Epoch 121/200\n",
      "5/5 [==============================] - 0s 15ms/step - loss: 0.0532 - val_loss: 0.0933\n",
      "Epoch 122/200\n",
      "5/5 [==============================] - 0s 14ms/step - loss: 0.0544 - val_loss: 0.0926\n",
      "Epoch 123/200\n",
      "5/5 [==============================] - 0s 16ms/step - loss: 0.0513 - val_loss: 0.0898\n",
      "Epoch 124/200\n",
      "5/5 [==============================] - 0s 14ms/step - loss: 0.0500 - val_loss: 0.0951\n",
      "Epoch 125/200\n",
      "5/5 [==============================] - 0s 14ms/step - loss: 0.0506 - val_loss: 0.0929\n",
      "Epoch 126/200\n",
      "5/5 [==============================] - 0s 13ms/step - loss: 0.0484 - val_loss: 0.0902\n",
      "Epoch 127/200\n",
      "5/5 [==============================] - 0s 15ms/step - loss: 0.0488 - val_loss: 0.0957\n",
      "Epoch 128/200\n",
      "5/5 [==============================] - 0s 15ms/step - loss: 0.0492 - val_loss: 0.0935\n",
      "Epoch 129/200\n",
      "5/5 [==============================] - 0s 14ms/step - loss: 0.0499 - val_loss: 0.0933\n",
      "Epoch 130/200\n",
      "5/5 [==============================] - 0s 16ms/step - loss: 0.0523 - val_loss: 0.0947\n",
      "Epoch 131/200\n",
      "5/5 [==============================] - 0s 16ms/step - loss: 0.0527 - val_loss: 0.0935\n",
      "Epoch 132/200\n",
      "5/5 [==============================] - 0s 15ms/step - loss: 0.0491 - val_loss: 0.0925\n",
      "Epoch 133/200\n",
      "5/5 [==============================] - 0s 20ms/step - loss: 0.0463 - val_loss: 0.0917\n",
      "Epoch 134/200\n",
      "5/5 [==============================] - 0s 16ms/step - loss: 0.0484 - val_loss: 0.0952\n",
      "Epoch 135/200\n",
      "5/5 [==============================] - 0s 19ms/step - loss: 0.0486 - val_loss: 0.0906\n",
      "Epoch 136/200\n",
      "5/5 [==============================] - 0s 17ms/step - loss: 0.0489 - val_loss: 0.0932\n",
      "Epoch 137/200\n",
      "5/5 [==============================] - 0s 16ms/step - loss: 0.0476 - val_loss: 0.0940\n",
      "Epoch 138/200\n",
      "5/5 [==============================] - 0s 14ms/step - loss: 0.0522 - val_loss: 0.0964\n",
      "Epoch 139/200\n",
      "5/5 [==============================] - 0s 14ms/step - loss: 0.0526 - val_loss: 0.0932\n",
      "Epoch 140/200\n",
      "5/5 [==============================] - 0s 17ms/step - loss: 0.0461 - val_loss: 0.0931\n",
      "Epoch 141/200\n",
      "5/5 [==============================] - 0s 13ms/step - loss: 0.0469 - val_loss: 0.0924\n",
      "Epoch 142/200\n",
      "5/5 [==============================] - 0s 14ms/step - loss: 0.0472 - val_loss: 0.0953\n",
      "Epoch 143/200\n",
      "5/5 [==============================] - 0s 17ms/step - loss: 0.0461 - val_loss: 0.0921\n",
      "Epoch 144/200\n",
      "5/5 [==============================] - 0s 15ms/step - loss: 0.0456 - val_loss: 0.0937\n",
      "Epoch 145/200\n",
      "5/5 [==============================] - 0s 14ms/step - loss: 0.0451 - val_loss: 0.0932\n",
      "Epoch 146/200\n",
      "5/5 [==============================] - 0s 14ms/step - loss: 0.0443 - val_loss: 0.0931\n",
      "Epoch 147/200\n",
      "5/5 [==============================] - 0s 15ms/step - loss: 0.0434 - val_loss: 0.0947\n",
      "Epoch 148/200\n",
      "5/5 [==============================] - 0s 15ms/step - loss: 0.0443 - val_loss: 0.0932\n",
      "Epoch 149/200\n",
      "5/5 [==============================] - 0s 15ms/step - loss: 0.0477 - val_loss: 0.0976\n",
      "Epoch 150/200\n",
      "5/5 [==============================] - 0s 18ms/step - loss: 0.0489 - val_loss: 0.0946\n",
      "Epoch 151/200\n",
      "5/5 [==============================] - 0s 16ms/step - loss: 0.0493 - val_loss: 0.0985\n",
      "Epoch 152/200\n",
      "5/5 [==============================] - 0s 13ms/step - loss: 0.0531 - val_loss: 0.0983\n",
      "Epoch 153/200\n",
      "5/5 [==============================] - 0s 13ms/step - loss: 0.0487 - val_loss: 0.0935\n",
      "Epoch 154/200\n",
      "5/5 [==============================] - 0s 16ms/step - loss: 0.0506 - val_loss: 0.0939\n",
      "Epoch 155/200\n",
      "5/5 [==============================] - 0s 16ms/step - loss: 0.0516 - val_loss: 0.0936\n",
      "Epoch 156/200\n",
      "5/5 [==============================] - 0s 15ms/step - loss: 0.0467 - val_loss: 0.0936\n",
      "Epoch 157/200\n",
      "5/5 [==============================] - 0s 14ms/step - loss: 0.0423 - val_loss: 0.0929\n",
      "Epoch 158/200\n",
      "5/5 [==============================] - 0s 15ms/step - loss: 0.0431 - val_loss: 0.0940\n",
      "Epoch 159/200\n",
      "5/5 [==============================] - 0s 15ms/step - loss: 0.0447 - val_loss: 0.0939\n",
      "Epoch 160/200\n",
      "5/5 [==============================] - 0s 30ms/step - loss: 0.0414 - val_loss: 0.0945\n",
      "Epoch 161/200\n",
      "5/5 [==============================] - 0s 24ms/step - loss: 0.0426 - val_loss: 0.0951\n",
      "Epoch 162/200\n",
      "5/5 [==============================] - 0s 14ms/step - loss: 0.0423 - val_loss: 0.0938\n",
      "Epoch 163/200\n",
      "5/5 [==============================] - 0s 15ms/step - loss: 0.0418 - val_loss: 0.0928\n",
      "Epoch 164/200\n",
      "5/5 [==============================] - 0s 12ms/step - loss: 0.0421 - val_loss: 0.0929\n",
      "Epoch 165/200\n",
      "5/5 [==============================] - 0s 15ms/step - loss: 0.0430 - val_loss: 0.0952\n",
      "Epoch 166/200\n",
      "5/5 [==============================] - 0s 16ms/step - loss: 0.0409 - val_loss: 0.0956\n",
      "Epoch 167/200\n",
      "5/5 [==============================] - 0s 14ms/step - loss: 0.0412 - val_loss: 0.0930\n",
      "Epoch 168/200\n",
      "5/5 [==============================] - 0s 15ms/step - loss: 0.0401 - val_loss: 0.0930\n",
      "Epoch 169/200\n",
      "5/5 [==============================] - 0s 14ms/step - loss: 0.0394 - val_loss: 0.0928\n",
      "Epoch 170/200\n",
      "5/5 [==============================] - 0s 14ms/step - loss: 0.0392 - val_loss: 0.0930\n",
      "Epoch 171/200\n",
      "5/5 [==============================] - 0s 14ms/step - loss: 0.0408 - val_loss: 0.0952\n",
      "Epoch 172/200\n",
      "5/5 [==============================] - 0s 17ms/step - loss: 0.0441 - val_loss: 0.0944\n",
      "Epoch 173/200\n",
      "5/5 [==============================] - 0s 18ms/step - loss: 0.0448 - val_loss: 0.0949\n",
      "Epoch 174/200\n",
      "5/5 [==============================] - 0s 14ms/step - loss: 0.0427 - val_loss: 0.0945\n",
      "Epoch 175/200\n",
      "5/5 [==============================] - 0s 14ms/step - loss: 0.0428 - val_loss: 0.1006\n",
      "Epoch 176/200\n",
      "5/5 [==============================] - 0s 15ms/step - loss: 0.0520 - val_loss: 0.0990\n",
      "Epoch 177/200\n",
      "5/5 [==============================] - 0s 14ms/step - loss: 0.0476 - val_loss: 0.0975\n",
      "Epoch 178/200\n",
      "5/5 [==============================] - 0s 15ms/step - loss: 0.0451 - val_loss: 0.0942\n",
      "Epoch 179/200\n",
      "5/5 [==============================] - 0s 14ms/step - loss: 0.0426 - val_loss: 0.0950\n",
      "Epoch 180/200\n",
      "5/5 [==============================] - 0s 16ms/step - loss: 0.0409 - val_loss: 0.0945\n",
      "Epoch 181/200\n",
      "5/5 [==============================] - 0s 15ms/step - loss: 0.0391 - val_loss: 0.0933\n",
      "Epoch 182/200\n",
      "5/5 [==============================] - 0s 15ms/step - loss: 0.0398 - val_loss: 0.0946\n",
      "Epoch 183/200\n",
      "5/5 [==============================] - 0s 14ms/step - loss: 0.0383 - val_loss: 0.0955\n",
      "Epoch 184/200\n",
      "5/5 [==============================] - 0s 16ms/step - loss: 0.0399 - val_loss: 0.0956\n",
      "Epoch 185/200\n",
      "5/5 [==============================] - 0s 14ms/step - loss: 0.0396 - val_loss: 0.0972\n",
      "Epoch 186/200\n",
      "5/5 [==============================] - 0s 15ms/step - loss: 0.0413 - val_loss: 0.0954\n",
      "Epoch 187/200\n",
      "5/5 [==============================] - 0s 17ms/step - loss: 0.0411 - val_loss: 0.0947\n",
      "Epoch 188/200\n",
      "5/5 [==============================] - 0s 22ms/step - loss: 0.0404 - val_loss: 0.0942\n",
      "Epoch 189/200\n",
      "5/5 [==============================] - 0s 28ms/step - loss: 0.0409 - val_loss: 0.0952\n",
      "Epoch 190/200\n",
      "5/5 [==============================] - 0s 15ms/step - loss: 0.0385 - val_loss: 0.0964\n",
      "Epoch 191/200\n",
      "5/5 [==============================] - 0s 13ms/step - loss: 0.0399 - val_loss: 0.0950\n",
      "Epoch 192/200\n",
      "5/5 [==============================] - 0s 14ms/step - loss: 0.0384 - val_loss: 0.0937\n",
      "Epoch 193/200\n",
      "5/5 [==============================] - 0s 13ms/step - loss: 0.0372 - val_loss: 0.0938\n",
      "Epoch 194/200\n",
      "5/5 [==============================] - 0s 15ms/step - loss: 0.0364 - val_loss: 0.0938\n",
      "Epoch 195/200\n",
      "5/5 [==============================] - 0s 15ms/step - loss: 0.0374 - val_loss: 0.0948\n",
      "Epoch 196/200\n",
      "5/5 [==============================] - 0s 14ms/step - loss: 0.0384 - val_loss: 0.0945\n",
      "Epoch 197/200\n",
      "5/5 [==============================] - 0s 15ms/step - loss: 0.0372 - val_loss: 0.0938\n",
      "Epoch 198/200\n",
      "5/5 [==============================] - 0s 15ms/step - loss: 0.0383 - val_loss: 0.0946\n",
      "Epoch 199/200\n",
      "5/5 [==============================] - 0s 16ms/step - loss: 0.0382 - val_loss: 0.0954\n",
      "Epoch 200/200\n",
      "5/5 [==============================] - 0s 15ms/step - loss: 0.0364 - val_loss: 0.0932\n"
     ]
    }
   ],
   "source": [
    "history = model.fit(\n",
    "    X_train, y_train,\n",
    "    validation_data=(X_valid, y_valid),\n",
    "    batch_size=256,\n",
    "    epochs=200,\n",
    ")"
   ]
  },
  {
   "cell_type": "code",
   "execution_count": 26,
   "metadata": {},
   "outputs": [
    {
     "data": {
      "image/png": "[encoded data removed]",
      "text/plain": [
       "<Figure size 432x288 with 1 Axes>"
      ]
     },
     "metadata": {
      "needs_background": "light"
     },
     "output_type": "display_data"
    }
   ],
   "source": [
    "history_df = pd.DataFrame(history.history)\n",
    "# use Pandas native plot method\n",
    "history_df['loss'].plot();"
   ]
  },
  {
   "cell_type": "markdown",
   "metadata": {},
   "source": [
    "### Overfitting & Underfitting"
   ]
  },
  {
   "cell_type": "markdown",
   "metadata": {},
   "source": [
    " Underfitting the training set is when the loss is not as low as it could be because the model hasn't learned enough signal. Overfitting the training set is when the loss is not as low as it could be because the model learned too much noise. The trick to training deep learning models is finding the best balance between the two."
   ]
  },
  {
   "cell_type": "code",
   "execution_count": 25,
   "metadata": {},
   "outputs": [
    {
     "name": "stdout",
     "output_type": "stream",
     "text": [
      "Minimum Validation Loss: 0.0908\n"
     ]
    },
    {
     "data": {
      "image/png": "[encoded data removed]",
      "text/plain": [
       "<Figure size 432x288 with 1 Axes>"
      ]
     },
     "metadata": {
      "needs_background": "light"
     },
     "output_type": "display_data"
    }
   ],
   "source": [
    "history_df = pd.DataFrame(history.history)\n",
    "history_df.loc[0:, ['loss', 'val_loss']].plot()\n",
    "print(\"Minimum Validation Loss: {:0.4f}\".format(history_df['val_loss'].min()));"
   ]
  },
  {
   "cell_type": "markdown",
   "metadata": {},
   "source": [
    "#### Capacity"
   ]
  },
  {
   "cell_type": "markdown",
   "metadata": {},
   "source": [
    "A model's capacity refers to the size and complexity of the patterns it is able to learn. For neural networks, this will largely be determined by how many neurons it has and how they are connected together. If it appears that your network is underfitting the data, you should try increasing its capacity. If its overfitting you should decrease its capacity, or do early stoppings(we'll see more ahead)\n",
    "\n",
    "You can increase the capacity of a network either by making it wider (more units to existing layers) or by making it deeper (adding more layers). Wider networks have an easier time learning more linear relationships, while deeper networks prefer more nonlinear ones."
   ]
  },
  {
   "cell_type": "code",
   "execution_count": 20,
   "metadata": {},
   "outputs": [],
   "source": [
    "model = keras.Sequential([\n",
    "    layers.Dense(16, activation='relu'),\n",
    "    layers.Dense(1),\n",
    "])\n",
    "\n",
    "wider = keras.Sequential([\n",
    "    layers.Dense(32, activation='relu'),\n",
    "    layers.Dense(1),\n",
    "])\n",
    "\n",
    "deeper = keras.Sequential([\n",
    "    layers.Dense(16, activation='relu'),\n",
    "    layers.Dense(16, activation='relu'),\n",
    "    layers.Dense(1),\n",
    "])"
   ]
  },
  {
   "cell_type": "markdown",
   "metadata": {},
   "source": [
    "#### Early Stopping\n",
    "\n",
    "We mentioned that when a model is too eagerly learning noise(Overfitting), the validation loss may start to increase during training. To prevent this, we can simply stop the training whenever it seems the validation loss isn't decreasing anymore. Interrupting the training this way is called early stopping."
   ]
  },
  {
   "cell_type": "code",
   "execution_count": 27,
   "metadata": {},
   "outputs": [],
   "source": [
    "from tensorflow.keras.callbacks import EarlyStopping\n",
    "\n",
    "early_stopping = EarlyStopping(\n",
    "    min_delta=0.001, # minimium amount of change to count as an improvement\n",
    "    patience=20, # how many epochs to wait before stopping\n",
    "    restore_best_weights=True,\n",
    ")"
   ]
  },
  {
   "cell_type": "code",
   "execution_count": 22,
   "metadata": {},
   "outputs": [],
   "source": [
    "from tensorflow import keras\n",
    "from tensorflow.keras import layers, callbacks\n",
    "\n",
    "early_stopping = callbacks.EarlyStopping(\n",
    "    min_delta=0.001, # minimium amount of change to count as an improvement\n",
    "    patience=20, # how many epochs to wait before stopping\n",
    "    restore_best_weights=True,\n",
    ")\n",
    "\n",
    "model = keras.Sequential([\n",
    "    layers.Dense(512, activation='relu', input_shape=[11]),\n",
    "    layers.Dense(512, activation='relu'),\n",
    "    layers.Dense(512, activation='relu'),\n",
    "    layers.Dense(1),\n",
    "])\n",
    "model.compile(\n",
    "    optimizer='adam',\n",
    "    loss='mae',\n",
    ")"
   ]
  },
  {
   "cell_type": "code",
   "execution_count": 23,
   "metadata": {},
   "outputs": [],
   "source": [
    "history = model.fit(\n",
    "    X_train, y_train,\n",
    "    validation_data=(X_valid, y_valid),\n",
    "    batch_size=256,\n",
    "    epochs=500,\n",
    "    callbacks=[early_stopping], # put your callbacks in a list\n",
    "    verbose=0,  # turn off training log\n",
    ")"
   ]
  },
  {
   "cell_type": "code",
   "execution_count": 24,
   "metadata": {},
   "outputs": [
    {
     "name": "stdout",
     "output_type": "stream",
     "text": [
      "Minimum validation loss: 0.09081783145666122\n"
     ]
    },
    {
     "data": {
      "image/png": "[encoded data removed]",
      "text/plain": [
       "<Figure size 432x288 with 1 Axes>"
      ]
     },
     "metadata": {
      "needs_background": "light"
     },
     "output_type": "display_data"
    }
   ],
   "source": [
    "history_df = pd.DataFrame(history.history)\n",
    "history_df.loc[:, ['loss', 'val_loss']].plot();\n",
    "print(\"Minimum validation loss: {}\".format(history_df['val_loss'].min()))"
   ]
  },
  {
   "cell_type": "markdown",
   "metadata": {},
   "source": [
    "## Dropout and Batch Normalization"
   ]
  },
  {
   "cell_type": "markdown",
   "metadata": {},
   "source": [
    "This is the idea behind dropout. To break up specific combination of weights that might be causingspurrious patterns in training data.We randomly drop out some fraction of a layer's input units every step of training, making it much harder for the network to learn those spurious patterns in the training data. Instead, it has to search for broad, general patterns, whose weight patterns tend to be more robust."
   ]
  },
  {
   "cell_type": "markdown",
   "metadata": {},
   "source": [
    "### Adding dropout"
   ]
  },
  {
   "cell_type": "code",
   "execution_count": null,
   "metadata": {},
   "outputs": [],
   "source": [
    "#keras.Sequential([\n",
    "    # ...\n",
    "    #layers.Dropout(rate=0.3), # apply 30% dropout to the next layer\n",
    "    #layers.Dense(16),\n",
    "    # ...\n",
    "#])"
   ]
  },
  {
   "cell_type": "markdown",
   "metadata": {},
   "source": [
    "A batch normalization layer looks at each batch as it comes in, first normalizing the batch with its own mean and standard deviation, and then also putting the data on a new scale with two trainable rescaling parameters. Batchnorm, in effect, performs a kind of coordinated rescaling of its inputs.\n",
    "Most often, batchnorm is added as an aid to the optimization process (though it can sometimes also help prediction performance). Models with batchnorm tend to need fewer epochs to complete training. Moreover, batchnorm can also fix various problems that can cause the training to get \"stuck\". Consider adding batch normalization to your models, especially if you're having trouble during training."
   ]
  },
  {
   "cell_type": "code",
   "execution_count": 29,
   "metadata": {},
   "outputs": [],
   "source": [
    "#layers.Dense(16),\n",
    "#layers.BatchNormalization(),\n",
    "#layers.Activation('relu'),\n",
    "\n",
    "#or\n",
    "\n",
    "#layers.Dense(16, activation='relu'),\n",
    "#layers.BatchNormalization(),"
   ]
  },
  {
   "cell_type": "markdown",
   "metadata": {},
   "source": [
    "### Using batch normalization and Dropout"
   ]
  },
  {
   "cell_type": "code",
   "execution_count": 30,
   "metadata": {},
   "outputs": [],
   "source": [
    "from tensorflow import keras\n",
    "from tensorflow.keras import layers\n",
    "\n",
    "model = keras.Sequential([\n",
    "    layers.Dense(1024, activation='relu', input_shape=[11]),\n",
    "    layers.Dropout(0.3),\n",
    "    layers.BatchNormalization(),\n",
    "    layers.Dense(1024, activation='relu'),\n",
    "    layers.Dropout(0.3),\n",
    "    layers.BatchNormalization(),\n",
    "    layers.Dense(1024, activation='relu'),\n",
    "    layers.Dropout(0.3),\n",
    "    layers.BatchNormalization(),\n",
    "    layers.Dense(1),\n",
    "])\n"
   ]
  },
  {
   "cell_type": "code",
   "execution_count": 31,
   "metadata": {},
   "outputs": [],
   "source": [
    "model.compile(\n",
    "    optimizer='adam',\n",
    "    loss='mae',\n",
    ")\n",
    "\n",
    "history = model.fit(\n",
    "    X_train, y_train,\n",
    "    validation_data=(X_valid, y_valid),\n",
    "    batch_size=256,\n",
    "    epochs=100,\n",
    "    verbose=0,\n",
    ")"
   ]
  },
  {
   "cell_type": "code",
   "execution_count": 32,
   "metadata": {},
   "outputs": [
    {
     "data": {
      "image/png": "[encoded data removed]",
      "text/plain": [
       "<Figure size 432x288 with 1 Axes>"
      ]
     },
     "metadata": {
      "needs_background": "light"
     },
     "output_type": "display_data"
    }
   ],
   "source": [
    "history_df = pd.DataFrame(history.history)\n",
    "history_df.loc[:, ['loss', 'val_loss']].plot();"
   ]
  },
  {
   "cell_type": "markdown",
   "metadata": {},
   "source": [
    "## Binary Classification"
   ]
  },
  {
   "cell_type": "markdown",
   "metadata": {},
   "source": [
    "Now, recall that the loss function defines the objective of the network during training. With regression, our goal was to minimize the distance between the expected outcome and the predicted outcome. We chose MAE to measure this distance.\n",
    "\n",
    "For classification, what we want instead is a distance between probabilities, and this is what cross-entropy provides. Cross-entropy is a sort of measure for the distance from one probability distribution to another.\n",
    "\n",
    "use cross-entropy(binary) for a classification loss; other metrics you might care about (like accuracy) will tend to improve along with it.\n",
    "\n",
    "Use MAE for regression loss\n"
   ]
  },
  {
   "cell_type": "markdown",
   "metadata": {},
   "source": [
    "#### Example of Binary classification\n",
    "\n",
    "The Ionosphere dataset contains features obtained from radar signals focused on the ionosphere layer of the Earth's atmosphere. The task is to determine whether the signal shows the presence of some object, or just empty air. We'll define our model just like we did for the regression tasks, with one exception. In the final layer include a 'sigmoid' activation so that the model will produce class probabilities."
   ]
  },
  {
   "cell_type": "code",
   "execution_count": 38,
   "metadata": {},
   "outputs": [
    {
     "data": {
      "text/html": [
       "<div>\n",
       "<style scoped>\n",
       "    .dataframe tbody tr th:only-of-type {\n",
       "        vertical-align: middle;\n",
       "    }\n",
       "\n",
       "    .dataframe tbody tr th {\n",
       "        vertical-align: top;\n",
       "    }\n",
       "\n",
       "    .dataframe thead th {\n",
       "        text-align: right;\n",
       "    }\n",
       "</style>\n",
       "<table border=\"1\" class=\"dataframe\">\n",
       "  <thead>\n",
       "    <tr style=\"text-align: right;\">\n",
       "      <th></th>\n",
       "      <th>V1</th>\n",
       "      <th>V2</th>\n",
       "      <th>V3</th>\n",
       "      <th>V4</th>\n",
       "      <th>V5</th>\n",
       "      <th>V6</th>\n",
       "      <th>V7</th>\n",
       "      <th>V8</th>\n",
       "      <th>V9</th>\n",
       "      <th>V10</th>\n",
       "      <th>...</th>\n",
       "      <th>V26</th>\n",
       "      <th>V27</th>\n",
       "      <th>V28</th>\n",
       "      <th>V29</th>\n",
       "      <th>V30</th>\n",
       "      <th>V31</th>\n",
       "      <th>V32</th>\n",
       "      <th>V33</th>\n",
       "      <th>V34</th>\n",
       "      <th>Class</th>\n",
       "    </tr>\n",
       "  </thead>\n",
       "  <tbody>\n",
       "    <tr>\n",
       "      <th>1</th>\n",
       "      <td>1</td>\n",
       "      <td>0</td>\n",
       "      <td>0.99539</td>\n",
       "      <td>-0.05889</td>\n",
       "      <td>0.85243</td>\n",
       "      <td>0.02306</td>\n",
       "      <td>0.83398</td>\n",
       "      <td>-0.37708</td>\n",
       "      <td>1.00000</td>\n",
       "      <td>0.03760</td>\n",
       "      <td>...</td>\n",
       "      <td>-0.51171</td>\n",
       "      <td>0.41078</td>\n",
       "      <td>-0.46168</td>\n",
       "      <td>0.21266</td>\n",
       "      <td>-0.34090</td>\n",
       "      <td>0.42267</td>\n",
       "      <td>-0.54487</td>\n",
       "      <td>0.18641</td>\n",
       "      <td>-0.45300</td>\n",
       "      <td>good</td>\n",
       "    </tr>\n",
       "    <tr>\n",
       "      <th>2</th>\n",
       "      <td>1</td>\n",
       "      <td>0</td>\n",
       "      <td>1.00000</td>\n",
       "      <td>-0.18829</td>\n",
       "      <td>0.93035</td>\n",
       "      <td>-0.36156</td>\n",
       "      <td>-0.10868</td>\n",
       "      <td>-0.93597</td>\n",
       "      <td>1.00000</td>\n",
       "      <td>-0.04549</td>\n",
       "      <td>...</td>\n",
       "      <td>-0.26569</td>\n",
       "      <td>-0.20468</td>\n",
       "      <td>-0.18401</td>\n",
       "      <td>-0.19040</td>\n",
       "      <td>-0.11593</td>\n",
       "      <td>-0.16626</td>\n",
       "      <td>-0.06288</td>\n",
       "      <td>-0.13738</td>\n",
       "      <td>-0.02447</td>\n",
       "      <td>bad</td>\n",
       "    </tr>\n",
       "    <tr>\n",
       "      <th>3</th>\n",
       "      <td>1</td>\n",
       "      <td>0</td>\n",
       "      <td>1.00000</td>\n",
       "      <td>-0.03365</td>\n",
       "      <td>1.00000</td>\n",
       "      <td>0.00485</td>\n",
       "      <td>1.00000</td>\n",
       "      <td>-0.12062</td>\n",
       "      <td>0.88965</td>\n",
       "      <td>0.01198</td>\n",
       "      <td>...</td>\n",
       "      <td>-0.40220</td>\n",
       "      <td>0.58984</td>\n",
       "      <td>-0.22145</td>\n",
       "      <td>0.43100</td>\n",
       "      <td>-0.17365</td>\n",
       "      <td>0.60436</td>\n",
       "      <td>-0.24180</td>\n",
       "      <td>0.56045</td>\n",
       "      <td>-0.38238</td>\n",
       "      <td>good</td>\n",
       "    </tr>\n",
       "    <tr>\n",
       "      <th>4</th>\n",
       "      <td>1</td>\n",
       "      <td>0</td>\n",
       "      <td>1.00000</td>\n",
       "      <td>-0.45161</td>\n",
       "      <td>1.00000</td>\n",
       "      <td>1.00000</td>\n",
       "      <td>0.71216</td>\n",
       "      <td>-1.00000</td>\n",
       "      <td>0.00000</td>\n",
       "      <td>0.00000</td>\n",
       "      <td>...</td>\n",
       "      <td>0.90695</td>\n",
       "      <td>0.51613</td>\n",
       "      <td>1.00000</td>\n",
       "      <td>1.00000</td>\n",
       "      <td>-0.20099</td>\n",
       "      <td>0.25682</td>\n",
       "      <td>1.00000</td>\n",
       "      <td>-0.32382</td>\n",
       "      <td>1.00000</td>\n",
       "      <td>bad</td>\n",
       "    </tr>\n",
       "    <tr>\n",
       "      <th>5</th>\n",
       "      <td>1</td>\n",
       "      <td>0</td>\n",
       "      <td>1.00000</td>\n",
       "      <td>-0.02401</td>\n",
       "      <td>0.94140</td>\n",
       "      <td>0.06531</td>\n",
       "      <td>0.92106</td>\n",
       "      <td>-0.23255</td>\n",
       "      <td>0.77152</td>\n",
       "      <td>-0.16399</td>\n",
       "      <td>...</td>\n",
       "      <td>-0.65158</td>\n",
       "      <td>0.13290</td>\n",
       "      <td>-0.53206</td>\n",
       "      <td>0.02431</td>\n",
       "      <td>-0.62197</td>\n",
       "      <td>-0.05707</td>\n",
       "      <td>-0.59573</td>\n",
       "      <td>-0.04608</td>\n",
       "      <td>-0.65697</td>\n",
       "      <td>good</td>\n",
       "    </tr>\n",
       "  </tbody>\n",
       "</table>\n",
       "<p>5 rows × 35 columns</p>\n",
       "</div>"
      ],
      "text/plain": [
       "   V1  V2       V3       V4       V5       V6       V7       V8       V9  \\\n",
       "1   1   0  0.99539 -0.05889  0.85243  0.02306  0.83398 -0.37708  1.00000   \n",
       "2   1   0  1.00000 -0.18829  0.93035 -0.36156 -0.10868 -0.93597  1.00000   \n",
       "3   1   0  1.00000 -0.03365  1.00000  0.00485  1.00000 -0.12062  0.88965   \n",
       "4   1   0  1.00000 -0.45161  1.00000  1.00000  0.71216 -1.00000  0.00000   \n",
       "5   1   0  1.00000 -0.02401  0.94140  0.06531  0.92106 -0.23255  0.77152   \n",
       "\n",
       "       V10  ...      V26      V27      V28      V29      V30      V31  \\\n",
       "1  0.03760  ... -0.51171  0.41078 -0.46168  0.21266 -0.34090  0.42267   \n",
       "2 -0.04549  ... -0.26569 -0.20468 -0.18401 -0.19040 -0.11593 -0.16626   \n",
       "3  0.01198  ... -0.40220  0.58984 -0.22145  0.43100 -0.17365  0.60436   \n",
       "4  0.00000  ...  0.90695  0.51613  1.00000  1.00000 -0.20099  0.25682   \n",
       "5 -0.16399  ... -0.65158  0.13290 -0.53206  0.02431 -0.62197 -0.05707   \n",
       "\n",
       "       V32      V33      V34  Class  \n",
       "1 -0.54487  0.18641 -0.45300   good  \n",
       "2 -0.06288 -0.13738 -0.02447    bad  \n",
       "3 -0.24180  0.56045 -0.38238   good  \n",
       "4  1.00000 -0.32382  1.00000    bad  \n",
       "5 -0.59573 -0.04608 -0.65697   good  \n",
       "\n",
       "[5 rows x 35 columns]"
      ]
     },
     "metadata": {},
     "output_type": "display_data"
    }
   ],
   "source": [
    "ion = pd.read_csv('ion.csv', index_col=0)\n",
    "display(ion.head())\n",
    "\n",
    "df = ion.copy()\n",
    "df['Class'] = df['Class'].map({'good': 0, 'bad': 1})\n",
    "\n",
    "df_train = df.sample(frac=0.7, random_state=0)\n",
    "df_valid = df.drop(df_train.index)\n",
    "\n",
    "max_ = df_train.max(axis=0)\n",
    "min_ = df_train.min(axis=0)\n",
    "\n",
    "df_train = (df_train - min_) / (max_ - min_)\n",
    "df_valid = (df_valid - min_) / (max_ - min_)\n",
    "df_train.dropna(axis=1, inplace=True) # drop the empty feature in column 2\n",
    "df_valid.dropna(axis=1, inplace=True)\n",
    "\n",
    "X_train = df_train.drop('Class', axis=1)\n",
    "X_valid = df_valid.drop('Class', axis=1)\n",
    "y_train = df_train['Class']\n",
    "y_valid = df_valid['Class']\n"
   ]
  },
  {
   "cell_type": "code",
   "execution_count": 39,
   "metadata": {},
   "outputs": [],
   "source": [
    "from tensorflow import keras\n",
    "from tensorflow.keras import layers\n",
    "\n",
    "model = keras.Sequential([\n",
    "    layers.Dense(4, activation='relu', input_shape=[33]),\n",
    "    layers.Dense(4, activation='relu'),    \n",
    "    layers.Dense(1, activation='sigmoid'),\n",
    "])"
   ]
  },
  {
   "cell_type": "code",
   "execution_count": 40,
   "metadata": {},
   "outputs": [],
   "source": [
    "model.compile(\n",
    "    optimizer='adam',\n",
    "    loss='binary_crossentropy',\n",
    "    metrics=['binary_accuracy'],\n",
    ")"
   ]
  },
  {
   "cell_type": "code",
   "execution_count": 36,
   "metadata": {},
   "outputs": [],
   "source": [
    "early_stopping = keras.callbacks.EarlyStopping(\n",
    "    patience=10,\n",
    "    min_delta=0.001,\n",
    "    restore_best_weights=True,\n",
    ")\n",
    "\n"
   ]
  },
  {
   "cell_type": "code",
   "execution_count": 41,
   "metadata": {},
   "outputs": [],
   "source": [
    "history = model.fit(\n",
    "    X_train, y_train,\n",
    "    validation_data=(X_valid, y_valid),\n",
    "    batch_size=512,\n",
    "    epochs=1000,\n",
    "    callbacks=[early_stopping],\n",
    "    verbose=0, # hide the output because we have so many epochs\n",
    ")"
   ]
  },
  {
   "cell_type": "code",
   "execution_count": 42,
   "metadata": {},
   "outputs": [
    {
     "name": "stdout",
     "output_type": "stream",
     "text": [
      "Best Validation Loss: 0.5776\n",
      "Best Validation Accuracy: 0.7714\n"
     ]
    },
    {
     "data": {
      "image/png": "[encoded data removed]",
      "text/plain": [
       "<Figure size 432x288 with 1 Axes>"
      ]
     },
     "metadata": {
      "needs_background": "light"
     },
     "output_type": "display_data"
    },
    {
     "data": {
      "image/png": "[encoded data removed]",
      "text/plain": [
       "<Figure size 432x288 with 1 Axes>"
      ]
     },
     "metadata": {
      "needs_background": "light"
     },
     "output_type": "display_data"
    }
   ],
   "source": [
    "history_df = pd.DataFrame(history.history)\n",
    "# Start the plot at epoch 5\n",
    "history_df.loc[5:, ['loss', 'val_loss']].plot()\n",
    "history_df.loc[5:, ['binary_accuracy', 'val_binary_accuracy']].plot()\n",
    "\n",
    "print((\"Best Validation Loss: {:0.4f}\" +\\\n",
    "      \"\\nBest Validation Accuracy: {:0.4f}\")\\\n",
    "      .format(history_df['val_loss'].min(), \n",
    "              history_df['val_binary_accuracy'].max()))"
   ]
  },
  {
   "cell_type": "code",
   "execution_count": null,
   "metadata": {},
   "outputs": [],
   "source": []
  }
 ],
 "metadata": {
  "interpreter": {
   "hash": "916dbcbb3f70747c44a77c7bcd40155683ae19c65e1c03b4aa3499c5328201f1"
  },
  "kernelspec": {
   "display_name": "Python 3.8.10 64-bit",
   "language": "python",
   "name": "python3"
  },
  "language_info": {
   "codemirror_mode": {
    "name": "ipython",
    "version": 3
   },
   "file_extension": ".py",
   "mimetype": "text/x-python",
   "name": "python",
   "nbconvert_exporter": "python",
   "pygments_lexer": "ipython3",
   "version": "3.8.10"
  },
  "orig_nbformat": 4
 },
 "nbformat": 4,
 "nbformat_minor": 2
}
