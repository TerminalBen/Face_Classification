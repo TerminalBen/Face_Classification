{
 "cells": [
  {
   "cell_type": "markdown",
   "metadata": {},
   "source": [
    "# Predictions"
   ]
  },
  {
   "cell_type": "code",
   "execution_count": null,
   "metadata": {},
   "outputs": [],
   "source": [
    "!pip3 install sklearn"
   ]
  },
  {
   "cell_type": "markdown",
   "metadata": {},
   "source": [
    "### Model for Gender prediction "
   ]
  },
  {
   "cell_type": "markdown",
   "metadata": {},
   "source": [
    "Importing the tensorflow framework and setting up the environment"
   ]
  },
  {
   "cell_type": "code",
   "execution_count": null,
   "metadata": {},
   "outputs": [],
   "source": [
    "import tensorflow as tf\n",
    "import tensorflow.keras.layers as layers\n",
    "import tensorflow.keras.callbacks as callbacks\n",
    "from sklearn.model_selection import train_test_split\n",
    "import numpy as np\n",
    "import os\n",
    "os.environ['TF_CPP_MIN_LOG_LEVEL'] = '2'\n",
    "import pandas as pd\n",
    "import matplotlib.pyplot as plt"
   ]
  },
  {
   "cell_type": "code",
   "execution_count": 6,
   "metadata": {},
   "outputs": [],
   "source": [
    "data=pd.read_csv(\"dataset/dataset.csv\")\n",
    "data=data.drop(\"img_name\",axis=1)\n",
    "columns = [\"age\", \"ethnicity\", \"gender\"]\n",
    "y = data.drop(\"pixels\", axis=1)\n",
    "x = data.drop(columns, axis=1)\n"
   ]
  },
  {
   "cell_type": "code",
   "execution_count": 15,
   "metadata": {},
   "outputs": [
    {
     "name": "stdout",
     "output_type": "stream",
     "text": [
      "2304 48 48\n"
     ]
    },
    {
     "name": "stderr",
     "output_type": "stream",
     "text": [
      "/tmp/ipykernel_4690/4050057615.py:7: DeprecationWarning: `np.int` is a deprecated alias for the builtin `int`. To silence this warning, use `int` by itself. Doing this will not modify any behavior and is safe. When replacing `np.int`, you may wish to use e.g. `np.int64` or `np.int32` to specify the precision. If you wish to review your current use, check the release note link for additional information.\n",
      "Deprecated in NumPy 1.20; for more details and guidance: https://numpy.org/devdocs/release/1.20.0-notes.html#deprecations\n",
      "  x = x.apply(lambda x: np.array(list(map(lambda z: np.int(z), x))))\n"
     ]
    },
    {
     "name": "stdout",
     "output_type": "stream",
     "text": [
      "x shape:  (23705, 48, 48, 1)\n"
     ]
    }
   ],
   "source": [
    "num_pixels = len(x['pixels'][0].split(\" \"))\n",
    "img_height = int(np.sqrt(len(x['pixels'][0].split(\" \"))))\n",
    "img_width = int(np.sqrt(len(x['pixels'][0].split(\" \"))))\n",
    "print(num_pixels, img_height, img_width)\n",
    "x = pd.Series(x[\"pixels\"])\n",
    "x = x.apply(lambda x: x.split(' '))\n",
    "x = x.apply(lambda x: np.array(list(map(lambda z: np.int(z), x))))\n",
    "x = np.array(x)\n",
    "x = np.stack(np.array(x), axis=0)\n",
    "x = np.reshape(x, (-1, 48, 48))\n",
    "\n",
    "# reshape data\n",
    "x = x.reshape(-1, 48, 48, 1)\n",
    "print(\"x shape: \", x.shape)\n"
   ]
  },
  {
   "cell_type": "markdown",
   "metadata": {},
   "source": [
    "Splitting the data for test and train. x has been previosly been defined as the pixels column from the dataset(its the feature class), and y is the gender class(targetclass). \n",
    "- X_train - is the pixel data for training\n",
    "- y_train - is the gender data for training\n",
    "- X_test - is the pixel data for testing\n",
    "- y_test - is the gender data for testing\n",
    "\n",
    "the portion of the dataset reserved for testing is 22%, with a random number generator seed 37"
   ]
  },
  {
   "cell_type": "code",
   "execution_count": 17,
   "metadata": {},
   "outputs": [],
   "source": [
    "y = data['gender']\n",
    "\n",
    "X_train, X_test, y_train, y_test = train_test_split(\n",
    "    x, y, test_size=0.22, random_state=37\n",
    ")"
   ]
  },
  {
   "cell_type": "code",
   "execution_count": 18,
   "metadata": {},
   "outputs": [],
   "source": [
    "early_stopping = callbacks.EarlyStopping(\n",
    "    min_delta=0.001, # minimium amount of change to count as an improvement\n",
    "    patience=10, # how many epochs to wait before stopping\n",
    "    restore_best_weights=True,\n",
    ")"
   ]
  },
  {
   "cell_type": "markdown",
   "metadata": {},
   "source": [
    "### The GenderModel"
   ]
  },
  {
   "cell_type": "markdown",
   "metadata": {},
   "source": [
    "For our model we are using Keras CNN's.\n",
    " A Sequencial model is a linear stack of layers. In our case we have a depth of 10 layers(input and output included). as input we take a 48x48 image. the next layer "
   ]
  },
  {
   "cell_type": "markdown",
   "metadata": {},
   "source": [
    "Conv2D(2D convolution layer for blurring, sharpening, embossing, edge detection, and more by doing a convolution between a kernel and an image), with  a rectifier linear Unit Activation, and it 'zooms' in from the 48x48 image to ignore image margins."
   ]
  },
  {
   "cell_type": "markdown",
   "metadata": {},
   "source": [
    "Batch normalization is a method used to make artificial neural networks faster and more stable through normalization of the layers' inputs by re-centering and re-scaling. so th ebatch normalization layer re-scales the data after the convolution takes place. It's usually a good practice to normalize the data in the network."
   ]
  },
  {
   "cell_type": "markdown",
   "metadata": {},
   "source": [
    "MaxPooling2D - Pooling layers are used to reduce the dimensions of the feature maps. Thus, it reduces the number of parameters to learn and the amount of computation performed in the network.This makes the model more robust to variations."
   ]
  },
  {
   "cell_type": "markdown",
   "metadata": {},
   "source": [
    "![title](presentation/maxPool.png)"
   ]
  },
  {
   "cell_type": "markdown",
   "metadata": {},
   "source": [
    "The flattening layer transformes the pooled data from the pooling layer and transforms it into a long vector of input data that can be passed to the next dense layer for more processing.\n"
   ]
  },
  {
   "cell_type": "markdown",
   "metadata": {},
   "source": [
    "![title](presentation/flattening.png)"
   ]
  },
  {
   "cell_type": "markdown",
   "metadata": {},
   "source": [
    "![title](presentation/flattening2.png)"
   ]
  },
  {
   "cell_type": "markdown",
   "metadata": {},
   "source": [
    "Finally our model has a dropout layer that helps to correct a possible overfitting.We randomly drop out some fraction of a layer's input units every step of training, making it much harder for the network to learn those 'dirty' patterns in the training data. Instead, it has to search for broad, general patterns, whose weight patterns tend to be more robust. In our case we are dropping 30% ot the connections.\n",
    "\n",
    "Our last layer produces the output hence the seize of one unit. As activation we are using a sigmod function that tends to work very well for Binary Classification."
   ]
  },
  {
   "cell_type": "code",
   "execution_count": 32,
   "metadata": {},
   "outputs": [],
   "source": [
    "inputShape = (48,48,1)\n",
    "\n",
    "genderModel = tf.keras.Sequential([\n",
    "    layers.InputLayer(input_shape=inputShape),\n",
    "    layers.Conv2D(32,(3,3),activation='relu',input_shape = (32,32,3)),\n",
    "    layers.BatchNormalization(),\n",
    "    layers.MaxPooling2D((2,2)),\n",
    "    layers.Conv2D(64, (3, 3), activation='relu'),\n",
    "    layers.MaxPooling2D((2, 2)),\n",
    "    layers.Flatten(),\n",
    "    layers.Dense(64, activation='relu'),\n",
    "    layers.Dropout(rate=0.3),\n",
    "    layers.Dense(1, activation='sigmoid')\n",
    "])"
   ]
  },
  {
   "cell_type": "markdown",
   "metadata": {},
   "source": [
    "### Compiling the model\n",
    "We chose to compile our model with the sgd optimizer. We did tests before with the adam optimizer, but we decided to stick with SGD because we got better results with it. Both SGD and ADAM are popular gradient descent algorithms, that can be found in use in most Tutorials and bibliography."
   ]
  },
  {
   "cell_type": "markdown",
   "metadata": {},
   "source": [
    "Since our Gender prediction is a Binary classification Problem, for  our loss funciton we decided to use BinaryCrossentropy. For metrics we are only using accuracy. \n",
    "\n",
    "https://www.dlology.com/blog/how-to-choose-last-layer-activation-and-loss-function/"
   ]
  },
  {
   "cell_type": "markdown",
   "metadata": {},
   "source": [
    "![title](presentation/types_of_activation_&_loss.png)"
   ]
  },
  {
   "cell_type": "code",
   "execution_count": 33,
   "metadata": {},
   "outputs": [],
   "source": [
    "genderModel.compile(optimizer='sgd',\n",
    "              loss=tf.keras.losses.BinaryCrossentropy(),\n",
    "              metrics=['accuracy'])\n"
   ]
  },
  {
   "cell_type": "markdown",
   "metadata": {},
   "source": [
    "After training the model a couple of times, the training history graph tells me that i get at best 28% of prediction Success. Therefore a stoppin function is created after reaching that metric"
   ]
  },
  {
   "cell_type": "code",
   "execution_count": 34,
   "metadata": {},
   "outputs": [],
   "source": [
    "class customStopping(tf.keras.callbacks.Callback):\n",
    "    def on_epoch_end(self, epoch, logs={}):\n",
    "        if(logs.get('val_loss')<0.28):\n",
    "            print(\"\\nReached 0.2700 val_loss! cancelling training!\")\n",
    "            self.model.stop_training = True"
   ]
  },
  {
   "cell_type": "markdown",
   "metadata": {},
   "source": [
    "### Overview of our model"
   ]
  },
  {
   "cell_type": "code",
   "execution_count": 35,
   "metadata": {},
   "outputs": [
    {
     "name": "stdout",
     "output_type": "stream",
     "text": [
      "Model: \"sequential_2\"\n",
      "_________________________________________________________________\n",
      " Layer (type)                Output Shape              Param #   \n",
      "=================================================================\n",
      " conv2d_4 (Conv2D)           (None, 46, 46, 32)        320       \n",
      "                                                                 \n",
      " batch_normalization_2 (Batc  (None, 46, 46, 32)       128       \n",
      " hNormalization)                                                 \n",
      "                                                                 \n",
      " max_pooling2d_4 (MaxPooling  (None, 23, 23, 32)       0         \n",
      " 2D)                                                             \n",
      "                                                                 \n",
      " conv2d_5 (Conv2D)           (None, 21, 21, 64)        18496     \n",
      "                                                                 \n",
      " max_pooling2d_5 (MaxPooling  (None, 10, 10, 64)       0         \n",
      " 2D)                                                             \n",
      "                                                                 \n",
      " flatten_2 (Flatten)         (None, 6400)              0         \n",
      "                                                                 \n",
      " dense_4 (Dense)             (None, 64)                409664    \n",
      "                                                                 \n",
      " dropout_2 (Dropout)         (None, 64)                0         \n",
      "                                                                 \n",
      " dense_5 (Dense)             (None, 1)                 65        \n",
      "                                                                 \n",
      "=================================================================\n",
      "Total params: 428,673\n",
      "Trainable params: 428,609\n",
      "Non-trainable params: 64\n",
      "_________________________________________________________________\n"
     ]
    }
   ],
   "source": [
    "genderModel.summary()"
   ]
  },
  {
   "cell_type": "markdown",
   "metadata": {},
   "source": [
    "### Fit the data\n",
    "fit the model with the training data, with a batch size of 64 Samples.The batch size is a hyperparameter that defines the number of samples to work through before updating the internal model parameters. Validation Split is the sample of data used to provide an unbiased evaluation of a model fit on the training dataset while tuning model hyperparameters. we are using 10% of the dataset. As callbacks we are using earlyStopping and a custom function defined above."
   ]
  },
  {
   "cell_type": "code",
   "execution_count": 36,
   "metadata": {},
   "outputs": [
    {
     "name": "stdout",
     "output_type": "stream",
     "text": [
      "Epoch 1/15\n",
      "260/260 [==============================] - 21s 79ms/step - loss: 0.5221 - accuracy: 0.7509 - val_loss: 0.4118 - val_accuracy: 0.8210\n",
      "Epoch 2/15\n",
      "260/260 [==============================] - 20s 77ms/step - loss: 0.3758 - accuracy: 0.8303 - val_loss: 0.3509 - val_accuracy: 0.8442\n",
      "Epoch 3/15\n",
      "260/260 [==============================] - 21s 79ms/step - loss: 0.3312 - accuracy: 0.8487 - val_loss: 0.3188 - val_accuracy: 0.8588\n",
      "Epoch 4/15\n",
      "260/260 [==============================] - 21s 82ms/step - loss: 0.3042 - accuracy: 0.8660 - val_loss: 0.3442 - val_accuracy: 0.8513\n",
      "Epoch 5/15\n",
      "260/260 [==============================] - 20s 77ms/step - loss: 0.2800 - accuracy: 0.8751 - val_loss: 0.3099 - val_accuracy: 0.8664\n",
      "Epoch 6/15\n",
      "260/260 [==============================] - 20s 77ms/step - loss: 0.2648 - accuracy: 0.8864 - val_loss: 0.3026 - val_accuracy: 0.8686\n",
      "Epoch 7/15\n",
      "260/260 [==============================] - 20s 77ms/step - loss: 0.2528 - accuracy: 0.8930 - val_loss: 0.2842 - val_accuracy: 0.8734\n",
      "Epoch 8/15\n",
      "260/260 [==============================] - 21s 81ms/step - loss: 0.2410 - accuracy: 0.8962 - val_loss: 0.2853 - val_accuracy: 0.8778\n",
      "Epoch 9/15\n",
      "260/260 [==============================] - ETA: 0s - loss: 0.2314 - accuracy: 0.9038\n",
      "Reached 0.2700 val_loss! cancelling training!\n",
      "260/260 [==============================] - 21s 82ms/step - loss: 0.2314 - accuracy: 0.9038 - val_loss: 0.2698 - val_accuracy: 0.8859\n"
     ]
    }
   ],
   "source": [
    "history = genderModel.fit(\n",
    "    X_train, y_train, epochs=15, batch_size=64,validation_split=0.1, callbacks=[early_stopping,customStopping()],\n",
    ")"
   ]
  },
  {
   "cell_type": "markdown",
   "metadata": {},
   "source": [
    "### Evaluating our model's training"
   ]
  },
  {
   "cell_type": "code",
   "execution_count": 37,
   "metadata": {},
   "outputs": [
    {
     "name": "stdout",
     "output_type": "stream",
     "text": [
      "Gender Model Training history\n",
      "Minimum validation loss: 0.269796758890152\n"
     ]
    },
    {
     "data": {
      "image/png": "[encoded data removed]",
      "text/plain": [
       "<Figure size 432x288 with 1 Axes>"
      ]
     },
     "metadata": {
      "needs_background": "light"
     },
     "output_type": "display_data"
    }
   ],
   "source": [
    "history_df = pd.DataFrame(history.history)\n",
    "history_df.loc[:, ['loss', 'val_loss']].plot();\n",
    "print(\"Gender Model Training history\")\n",
    "print(\"Minimum validation loss: {}\".format(history_df['val_loss'].min()))"
   ]
  },
  {
   "cell_type": "code",
   "execution_count": 38,
   "metadata": {},
   "outputs": [
    {
     "name": "stdout",
     "output_type": "stream",
     "text": [
      "Gender Model Training history\n",
      "MAximum validation Accuracy: 0.8858842849731445\n"
     ]
    },
    {
     "data": {
      "image/png": "[encoded data removed]",
      "text/plain": [
       "<Figure size 432x288 with 1 Axes>"
      ]
     },
     "metadata": {
      "needs_background": "light"
     },
     "output_type": "display_data"
    }
   ],
   "source": [
    "history_df = pd.DataFrame(history.history)\n",
    "history_df.loc[:, ['accuracy', 'val_accuracy']].plot();\n",
    "print(\"Gender Model Training history\")\n",
    "print(\"MAximum validation Accuracy: {}\".format(history_df['val_accuracy'].max()))"
   ]
  },
  {
   "cell_type": "code",
   "execution_count": 39,
   "metadata": {},
   "outputs": [
    {
     "data": {
      "text/html": [
       "<div>\n",
       "<style scoped>\n",
       "    .dataframe tbody tr th:only-of-type {\n",
       "        vertical-align: middle;\n",
       "    }\n",
       "\n",
       "    .dataframe tbody tr th {\n",
       "        vertical-align: top;\n",
       "    }\n",
       "\n",
       "    .dataframe thead th {\n",
       "        text-align: right;\n",
       "    }\n",
       "</style>\n",
       "<table border=\"1\" class=\"dataframe\">\n",
       "  <thead>\n",
       "    <tr style=\"text-align: right;\">\n",
       "      <th></th>\n",
       "      <th>loss</th>\n",
       "      <th>accuracy</th>\n",
       "      <th>val_loss</th>\n",
       "      <th>val_accuracy</th>\n",
       "    </tr>\n",
       "  </thead>\n",
       "  <tbody>\n",
       "    <tr>\n",
       "      <th>0</th>\n",
       "      <td>0.522149</td>\n",
       "      <td>0.750901</td>\n",
       "      <td>0.411752</td>\n",
       "      <td>0.820984</td>\n",
       "    </tr>\n",
       "    <tr>\n",
       "      <th>1</th>\n",
       "      <td>0.375751</td>\n",
       "      <td>0.830288</td>\n",
       "      <td>0.350899</td>\n",
       "      <td>0.844240</td>\n",
       "    </tr>\n",
       "    <tr>\n",
       "      <th>2</th>\n",
       "      <td>0.331216</td>\n",
       "      <td>0.848738</td>\n",
       "      <td>0.318770</td>\n",
       "      <td>0.858843</td>\n",
       "    </tr>\n",
       "    <tr>\n",
       "      <th>3</th>\n",
       "      <td>0.304187</td>\n",
       "      <td>0.866046</td>\n",
       "      <td>0.344196</td>\n",
       "      <td>0.851271</td>\n",
       "    </tr>\n",
       "    <tr>\n",
       "      <th>4</th>\n",
       "      <td>0.279989</td>\n",
       "      <td>0.875060</td>\n",
       "      <td>0.309853</td>\n",
       "      <td>0.866414</td>\n",
       "    </tr>\n",
       "  </tbody>\n",
       "</table>\n",
       "</div>"
      ],
      "text/plain": [
       "       loss  accuracy  val_loss  val_accuracy\n",
       "0  0.522149  0.750901  0.411752      0.820984\n",
       "1  0.375751  0.830288  0.350899      0.844240\n",
       "2  0.331216  0.848738  0.318770      0.858843\n",
       "3  0.304187  0.866046  0.344196      0.851271\n",
       "4  0.279989  0.875060  0.309853      0.866414"
      ]
     },
     "execution_count": 39,
     "metadata": {},
     "output_type": "execute_result"
    }
   ],
   "source": [
    "history_df.head()"
   ]
  },
  {
   "cell_type": "markdown",
   "metadata": {},
   "source": [
    "### Saving Model and weights to Disk"
   ]
  },
  {
   "cell_type": "code",
   "execution_count": 40,
   "metadata": {},
   "outputs": [
    {
     "name": "stdout",
     "output_type": "stream",
     "text": [
      "Saved model to disk\n"
     ]
    }
   ],
   "source": [
    "from keras.models import model_from_json\n",
    "gender_model_json = genderModel.to_json()\n",
    "with open(\"models/gender/gender_model.json\", \"w\") as json_file:\n",
    "    json_file.write(gender_model_json)\n",
    "# serialize weights to HDF5\n",
    "genderModel.save_weights(\"models/gender/gender_model.h5\")\n",
    "print(\"Saved model to disk\")"
   ]
  },
  {
   "cell_type": "markdown",
   "metadata": {},
   "source": [
    "### load model from disk\n"
   ]
  },
  {
   "cell_type": "code",
   "execution_count": 41,
   "metadata": {},
   "outputs": [
    {
     "name": "stdout",
     "output_type": "stream",
     "text": [
      "Loaded model from disk\n"
     ]
    }
   ],
   "source": [
    "from keras.models import model_from_json\n",
    "\n",
    "json_file = open('models/gender/gender_model.json', 'r')\n",
    "loaded_model_json = json_file.read()\n",
    "json_file.close()\n",
    "loaded_model = model_from_json(loaded_model_json)\n",
    "# load weights into new model\n",
    "loaded_model.load_weights(\"models/gender/gender_model.h5\")\n",
    "print(\"Loaded model from disk\")\n"
   ]
  },
  {
   "cell_type": "markdown",
   "metadata": {},
   "source": [
    "## Age Model"
   ]
  },
  {
   "cell_type": "markdown",
   "metadata": {},
   "source": [
    "#### In terms of spliting the data, we take the same approach as for the gender model."
   ]
  },
  {
   "cell_type": "code",
   "execution_count": 42,
   "metadata": {},
   "outputs": [],
   "source": [
    "y = data['age']\n",
    "\n",
    "X_train, X_test, y_train, y_test = train_test_split(\n",
    "    x, y, test_size=0.22, random_state=37\n",
    ")"
   ]
  },
  {
   "cell_type": "markdown",
   "metadata": {},
   "source": [
    "#### We have basically the same layer structure for our model, but we changed the last layer activation function to relu, because now the problem has turned from a binary classification into a regression."
   ]
  },
  {
   "cell_type": "code",
   "execution_count": 50,
   "metadata": {},
   "outputs": [],
   "source": [
    "AgeModel = tf.keras.Sequential([\n",
    "    layers.InputLayer(input_shape=(48,48,1)),\n",
    "    layers.Conv2D(32, (3, 3), activation='relu', input_shape=(32, 32, 3)),\n",
    "    layers.BatchNormalization(),\n",
    "    layers.MaxPooling2D((2, 2)),\n",
    "    layers.Conv2D(64, (3, 3), activation='relu'),\n",
    "    layers.MaxPooling2D((2, 2)),\n",
    "    layers.Conv2D(128, (3, 3), activation='relu'),\n",
    "    layers.MaxPooling2D((2, 2)),\n",
    "    layers.Flatten(),\n",
    "    layers.Dense(64, activation='relu'),\n",
    "    layers.Dropout(rate=0.3),\n",
    "    layers.Dense(1,'relu')\n",
    "])"
   ]
  },
  {
   "cell_type": "markdown",
   "metadata": {},
   "source": [
    "#### in relation to the last model, we changed the optimizer function to adam, which is a general go-to optimizer function. we tried sgm, but the results with adam were better. As the loss mesurement  we are using meam_squared_error, again because our problem is now a regression problem, and as metrics, instead of accuracy, we are using the mean average error, because we want to test how far away we are froma  certain number as oposite as the last model, where we were measuring a  probability of error."
   ]
  },
  {
   "cell_type": "code",
   "execution_count": 51,
   "metadata": {},
   "outputs": [],
   "source": [
    "AgeModel.compile(optimizer='adam',\n",
    "              loss='mean_squared_error',\n",
    "              metrics=['mae'])\n"
   ]
  },
  {
   "cell_type": "code",
   "execution_count": 52,
   "metadata": {},
   "outputs": [
    {
     "name": "stdout",
     "output_type": "stream",
     "text": [
      "Model: \"sequential_4\"\n",
      "_________________________________________________________________\n",
      " Layer (type)                Output Shape              Param #   \n",
      "=================================================================\n",
      " conv2d_9 (Conv2D)           (None, 46, 46, 32)        320       \n",
      "                                                                 \n",
      " batch_normalization_4 (Batc  (None, 46, 46, 32)       128       \n",
      " hNormalization)                                                 \n",
      "                                                                 \n",
      " max_pooling2d_9 (MaxPooling  (None, 23, 23, 32)       0         \n",
      " 2D)                                                             \n",
      "                                                                 \n",
      " conv2d_10 (Conv2D)          (None, 21, 21, 64)        18496     \n",
      "                                                                 \n",
      " max_pooling2d_10 (MaxPoolin  (None, 10, 10, 64)       0         \n",
      " g2D)                                                            \n",
      "                                                                 \n",
      " conv2d_11 (Conv2D)          (None, 8, 8, 128)         73856     \n",
      "                                                                 \n",
      " max_pooling2d_11 (MaxPoolin  (None, 4, 4, 128)        0         \n",
      " g2D)                                                            \n",
      "                                                                 \n",
      " flatten_4 (Flatten)         (None, 2048)              0         \n",
      "                                                                 \n",
      " dense_8 (Dense)             (None, 64)                131136    \n",
      "                                                                 \n",
      " dropout_4 (Dropout)         (None, 64)                0         \n",
      "                                                                 \n",
      " dense_9 (Dense)             (None, 1)                 65        \n",
      "                                                                 \n",
      "=================================================================\n",
      "Total params: 224,001\n",
      "Trainable params: 223,937\n",
      "Non-trainable params: 64\n",
      "_________________________________________________________________\n"
     ]
    }
   ],
   "source": [
    "AgeModel.summary()"
   ]
  },
  {
   "cell_type": "code",
   "execution_count": 53,
   "metadata": {},
   "outputs": [],
   "source": [
    "class customStopping2(tf.keras.callbacks.Callback):\n",
    "    def on_epoch_end(self, epoch, logs={}):\n",
    "        if(logs.get('val_loss')<97):\n",
    "            print(\"\\nReached 97 val_loss so cancelling training!\")\n",
    "            self.model.stop_training = True"
   ]
  },
  {
   "cell_type": "code",
   "execution_count": 54,
   "metadata": {},
   "outputs": [
    {
     "name": "stdout",
     "output_type": "stream",
     "text": [
      "Epoch 1/15\n",
      "260/260 [==============================] - 24s 90ms/step - loss: 319.2230 - mae: 13.4307 - val_loss: 367.3109 - val_mae: 16.4108\n",
      "Epoch 2/15\n",
      "260/260 [==============================] - 25s 95ms/step - loss: 181.8119 - mae: 10.0659 - val_loss: 292.6145 - val_mae: 13.2427\n",
      "Epoch 3/15\n",
      "260/260 [==============================] - 23s 88ms/step - loss: 161.6317 - mae: 9.4420 - val_loss: 143.0332 - val_mae: 8.5625\n",
      "Epoch 4/15\n",
      "260/260 [==============================] - 26s 100ms/step - loss: 151.1998 - mae: 9.0865 - val_loss: 104.9603 - val_mae: 7.6143\n",
      "Epoch 5/15\n",
      "260/260 [==============================] - 26s 99ms/step - loss: 137.6544 - mae: 8.6785 - val_loss: 105.2703 - val_mae: 7.4912\n",
      "Epoch 6/15\n",
      "260/260 [==============================] - 25s 95ms/step - loss: 128.8960 - mae: 8.3927 - val_loss: 108.7339 - val_mae: 7.7912\n",
      "Epoch 7/15\n",
      "260/260 [==============================] - 24s 91ms/step - loss: 122.8860 - mae: 8.1779 - val_loss: 120.1929 - val_mae: 7.7932\n",
      "Epoch 8/15\n",
      "260/260 [==============================] - 23s 89ms/step - loss: 116.9036 - mae: 7.9660 - val_loss: 153.1865 - val_mae: 8.7367\n",
      "Epoch 9/15\n",
      "260/260 [==============================] - 24s 91ms/step - loss: 111.5923 - mae: 7.7390 - val_loss: 102.0744 - val_mae: 7.2584\n",
      "Epoch 10/15\n",
      "260/260 [==============================] - 23s 87ms/step - loss: 110.9902 - mae: 7.7629 - val_loss: 124.3122 - val_mae: 8.4033\n",
      "Epoch 11/15\n",
      "260/260 [==============================] - 24s 93ms/step - loss: 104.8755 - mae: 7.5391 - val_loss: 104.4748 - val_mae: 7.6088\n",
      "Epoch 12/15\n",
      "260/260 [==============================] - 23s 90ms/step - loss: 98.5189 - mae: 7.3488 - val_loss: 121.6047 - val_mae: 7.8886\n",
      "Epoch 13/15\n",
      "260/260 [==============================] - 25s 96ms/step - loss: 95.5825 - mae: 7.1972 - val_loss: 98.6580 - val_mae: 7.2306\n",
      "Epoch 14/15\n",
      "260/260 [==============================] - 24s 92ms/step - loss: 93.5209 - mae: 7.1368 - val_loss: 125.2625 - val_mae: 8.5967\n",
      "Epoch 15/15\n",
      "260/260 [==============================] - 24s 92ms/step - loss: 90.3178 - mae: 7.0221 - val_loss: 113.9751 - val_mae: 8.0141\n"
     ]
    }
   ],
   "source": [
    "history1 = AgeModel.fit(\n",
    "    X_train, y_train, epochs=15, validation_split=0.1, batch_size=64, callbacks=[early_stopping,customStopping2()],\n",
    ")"
   ]
  },
  {
   "cell_type": "code",
   "execution_count": 55,
   "metadata": {},
   "outputs": [
    {
     "name": "stdout",
     "output_type": "stream",
     "text": [
      "Age Model Training history- With stopping function + no LL activation\n",
      "Minimum validation loss: 98.65799713134766\n"
     ]
    },
    {
     "data": {
      "image/png": "[encoded data removed]",
      "text/plain": [
       "<Figure size 432x288 with 1 Axes>"
      ]
     },
     "metadata": {
      "needs_background": "light"
     },
     "output_type": "display_data"
    }
   ],
   "source": [
    "history_df_age = pd.DataFrame(history1.history)\n",
    "history_df_age.loc[:, ['loss', 'val_loss']].plot();\n",
    "print(\"Age Model Training history- With stopping function + no LL activation\")\n",
    "print(\"Minimum validation loss: {}\".format(history_df_age['val_loss'].min()))"
   ]
  },
  {
   "cell_type": "code",
   "execution_count": 57,
   "metadata": {},
   "outputs": [
    {
     "name": "stdout",
     "output_type": "stream",
     "text": [
      "Age Model Training history- With stopping function + no LL activation\n",
      "Minimum mean average error: 7.230589866638184\n"
     ]
    },
    {
     "data": {
      "image/png": "[encoded data removed]",
      "text/plain": [
       "<Figure size 432x288 with 1 Axes>"
      ]
     },
     "metadata": {
      "needs_background": "light"
     },
     "output_type": "display_data"
    }
   ],
   "source": [
    "history_df_age = pd.DataFrame(history1.history)\n",
    "history_df_age.loc[:, ['mae', 'val_mae']].plot();\n",
    "print(\"Age Model Training history- With stopping function + no LL activation\")\n",
    "print(\"Minimum mean average error: {}\".format(history_df_age['val_mae'].min()))"
   ]
  },
  {
   "cell_type": "code",
   "execution_count": 58,
   "metadata": {},
   "outputs": [
    {
     "name": "stdout",
     "output_type": "stream",
     "text": [
      "Saved model to disk\n"
     ]
    }
   ],
   "source": [
    "from keras.models import model_from_json\n",
    "age_model_json = AgeModel.to_json()\n",
    "with open(\"models/age/age_model.json\", \"w\") as json_file:\n",
    "    json_file.write(age_model_json)\n",
    "# serialize weights to HDF5\n",
    "AgeModel.save_weights(\"models/age/age_model.h5\")\n",
    "print(\"Saved model to disk\")"
   ]
  },
  {
   "cell_type": "markdown",
   "metadata": {},
   "source": [
    "## Ethnicity Model"
   ]
  },
  {
   "cell_type": "code",
   "execution_count": 59,
   "metadata": {},
   "outputs": [],
   "source": [
    "y = data['ethnicity']\n",
    "\n",
    "X_train, X_test, y_train, y_test = train_test_split(\n",
    "    x, y, test_size=0.22, random_state=37\n",
    ")"
   ]
  },
  {
   "cell_type": "markdown",
   "metadata": {},
   "source": [
    "The model has the usual layer types, differing only on the last layer activation type.\n",
    "Pushing the \"softmax\" activation into the cross-entropy loss layer significantly simplifies the loss computation and makes it more numerically stable."
   ]
  },
  {
   "cell_type": "code",
   "execution_count": 60,
   "metadata": {},
   "outputs": [],
   "source": [
    "eth_model = tf.keras.Sequential([\n",
    "    layers.InputLayer(input_shape=(48,48,1)),\n",
    "    layers.Conv2D(32, (3, 3), activation='relu', input_shape=(32, 32, 3)),\n",
    "    layers.MaxPooling2D((2, 2)),\n",
    "    layers.Conv2D(64, (3, 3), activation='relu'),\n",
    "    layers.MaxPooling2D((2, 2)),\n",
    "    layers.Flatten(),\n",
    "    layers.Dense(64, activation='relu'),\n",
    "    layers.Dropout(rate=0.5),\n",
    "    layers.Dense(5,activation='softmax')\n",
    "])"
   ]
  },
  {
   "cell_type": "markdown",
   "metadata": {},
   "source": [
    "#### We are still using adam as our otimizer,\n",
    "\n",
    "\n",
    "#### The usage of SparceCategoriacCrossEntropy is because our data are integers, and not one-hot encoded[0,1]\n",
    "\n",
    "\n",
    "#### Again the use of accuracy as our metric is because there are 5 ethnic groups, and we want to measute the probablity of failing to chose the correct one."
   ]
  },
  {
   "cell_type": "code",
   "execution_count": 61,
   "metadata": {},
   "outputs": [],
   "source": [
    "eth_model.compile(optimizer='adam',\n",
    "              loss=tf.keras.losses.SparseCategoricalCrossentropy(from_logits=True),\n",
    "              metrics=['accuracy'])"
   ]
  },
  {
   "cell_type": "code",
   "execution_count": 62,
   "metadata": {},
   "outputs": [],
   "source": [
    "class customStopping3(tf.keras.callbacks.Callback):\n",
    "    def on_epoch_end(self, epoch, logs={}):\n",
    "        if(logs.get('val_accuracy')>0.79):\n",
    "            print(\"\\nReached 79% val_accuracy so cancelling training!\")\n",
    "            self.model.stop_training = True"
   ]
  },
  {
   "cell_type": "code",
   "execution_count": 63,
   "metadata": {},
   "outputs": [
    {
     "name": "stdout",
     "output_type": "stream",
     "text": [
      "Model: \"sequential_5\"\n",
      "_________________________________________________________________\n",
      " Layer (type)                Output Shape              Param #   \n",
      "=================================================================\n",
      " conv2d_12 (Conv2D)          (None, 46, 46, 32)        320       \n",
      "                                                                 \n",
      " max_pooling2d_12 (MaxPoolin  (None, 23, 23, 32)       0         \n",
      " g2D)                                                            \n",
      "                                                                 \n",
      " conv2d_13 (Conv2D)          (None, 21, 21, 64)        18496     \n",
      "                                                                 \n",
      " max_pooling2d_13 (MaxPoolin  (None, 10, 10, 64)       0         \n",
      " g2D)                                                            \n",
      "                                                                 \n",
      " flatten_5 (Flatten)         (None, 6400)              0         \n",
      "                                                                 \n",
      " dense_10 (Dense)            (None, 64)                409664    \n",
      "                                                                 \n",
      " dropout_5 (Dropout)         (None, 64)                0         \n",
      "                                                                 \n",
      " dense_11 (Dense)            (None, 5)                 325       \n",
      "                                                                 \n",
      "=================================================================\n",
      "Total params: 428,805\n",
      "Trainable params: 428,805\n",
      "Non-trainable params: 0\n",
      "_________________________________________________________________\n"
     ]
    }
   ],
   "source": [
    "eth_model.summary()"
   ]
  },
  {
   "cell_type": "code",
   "execution_count": 64,
   "metadata": {},
   "outputs": [
    {
     "name": "stdout",
     "output_type": "stream",
     "text": [
      "Epoch 1/15\n"
     ]
    },
    {
     "name": "stderr",
     "output_type": "stream",
     "text": [
      "/home/bento/.local/lib/python3.8/site-packages/tensorflow/python/util/dispatch.py:1096: UserWarning: \"`sparse_categorical_crossentropy` received `from_logits=True`, but the `output` argument was produced by a sigmoid or softmax activation and thus does not represent logits. Was this intended?\"\n",
      "  return dispatch_target(*args, **kwargs)\n"
     ]
    },
    {
     "name": "stdout",
     "output_type": "stream",
     "text": [
      "260/260 [==============================] - 16s 60ms/step - loss: 2.4460 - accuracy: 0.4239 - val_loss: 1.2431 - val_accuracy: 0.5300\n",
      "Epoch 2/15\n",
      "260/260 [==============================] - 16s 60ms/step - loss: 1.2264 - accuracy: 0.5177 - val_loss: 0.9853 - val_accuracy: 0.6268\n",
      "Epoch 3/15\n",
      "260/260 [==============================] - 15s 59ms/step - loss: 1.1333 - accuracy: 0.5493 - val_loss: 0.9221 - val_accuracy: 0.6263\n",
      "Epoch 4/15\n",
      "260/260 [==============================] - 15s 57ms/step - loss: 1.0873 - accuracy: 0.5636 - val_loss: 0.9358 - val_accuracy: 0.5949\n",
      "Epoch 5/15\n",
      "260/260 [==============================] - 15s 57ms/step - loss: 1.0567 - accuracy: 0.5788 - val_loss: 0.8386 - val_accuracy: 0.7015\n",
      "Epoch 6/15\n",
      "260/260 [==============================] - 15s 59ms/step - loss: 1.0353 - accuracy: 0.5799 - val_loss: 0.8776 - val_accuracy: 0.6825\n",
      "Epoch 7/15\n",
      "260/260 [==============================] - 15s 57ms/step - loss: 1.0128 - accuracy: 0.5850 - val_loss: 0.8314 - val_accuracy: 0.6912\n",
      "Epoch 8/15\n",
      "260/260 [==============================] - 15s 59ms/step - loss: 0.9935 - accuracy: 0.5990 - val_loss: 0.8443 - val_accuracy: 0.7042\n",
      "Epoch 9/15\n",
      "260/260 [==============================] - 15s 57ms/step - loss: 0.9912 - accuracy: 0.5987 - val_loss: 0.7878 - val_accuracy: 0.7469\n",
      "Epoch 10/15\n",
      "260/260 [==============================] - 16s 63ms/step - loss: 0.9814 - accuracy: 0.6041 - val_loss: 0.7966 - val_accuracy: 0.7161\n",
      "Epoch 11/15\n",
      "260/260 [==============================] - 17s 64ms/step - loss: 0.9735 - accuracy: 0.6121 - val_loss: 0.7869 - val_accuracy: 0.7409\n",
      "Epoch 12/15\n",
      "260/260 [==============================] - 16s 63ms/step - loss: 0.9470 - accuracy: 0.6302 - val_loss: 0.7975 - val_accuracy: 0.7263\n",
      "Epoch 13/15\n",
      "260/260 [==============================] - 16s 63ms/step - loss: 0.9240 - accuracy: 0.6390 - val_loss: 0.8333 - val_accuracy: 0.7036\n",
      "Epoch 14/15\n",
      "260/260 [==============================] - 16s 61ms/step - loss: 0.9087 - accuracy: 0.6451 - val_loss: 0.7678 - val_accuracy: 0.7393\n",
      "Epoch 15/15\n",
      "260/260 [==============================] - 16s 63ms/step - loss: 0.9011 - accuracy: 0.6495 - val_loss: 0.7729 - val_accuracy: 0.7274\n"
     ]
    }
   ],
   "source": [
    "history2 = eth_model.fit(\n",
    "    X_train, y_train, epochs=15, validation_split=0.1, batch_size=64,\n",
    ")"
   ]
  },
  {
   "cell_type": "code",
   "execution_count": 65,
   "metadata": {},
   "outputs": [
    {
     "name": "stdout",
     "output_type": "stream",
     "text": [
      "Ethnic Model Training history- No stopping function + ADAM \n",
      "Minimum validation loss: 0.7677708268165588\n"
     ]
    },
    {
     "data": {
      "image/png": "[encoded data removed]",
      "text/plain": [
       "<Figure size 432x288 with 1 Axes>"
      ]
     },
     "metadata": {
      "needs_background": "light"
     },
     "output_type": "display_data"
    }
   ],
   "source": [
    "history_df_eth = pd.DataFrame(history2.history)\n",
    "history_df_eth.loc[:, ['loss', 'val_loss']].plot();\n",
    "print(\"Ethnic Model Training history- No stopping function + ADAM \")\n",
    "print(\"Minimum validation loss: {}\".format(history_df_eth['val_loss'].min()))"
   ]
  },
  {
   "cell_type": "code",
   "execution_count": 66,
   "metadata": {},
   "outputs": [
    {
     "name": "stdout",
     "output_type": "stream",
     "text": [
      "Ethnic Model Training history- No stopping function + ADAM \n",
      "Maximum validation Accuracy: 0.7468901872634888\n"
     ]
    },
    {
     "data": {
      "image/png": "[encoded data removed]",
      "text/plain": [
       "<Figure size 432x288 with 1 Axes>"
      ]
     },
     "metadata": {
      "needs_background": "light"
     },
     "output_type": "display_data"
    }
   ],
   "source": [
    "history_df_eth = pd.DataFrame(history2.history)\n",
    "history_df_eth.loc[:, ['accuracy', 'val_accuracy']].plot();\n",
    "print(\"Ethnic Model Training history- No stopping function + ADAM \")\n",
    "print(\"Maximum validation Accuracy: {}\".format(history_df_eth['val_accuracy'].max()))"
   ]
  },
  {
   "cell_type": "code",
   "execution_count": 67,
   "metadata": {},
   "outputs": [
    {
     "name": "stdout",
     "output_type": "stream",
     "text": [
      "Saved model to disk\n"
     ]
    }
   ],
   "source": [
    "from keras.models import model_from_json\n",
    "ethnic_model_json = eth_model.to_json()\n",
    "with open(\"models/ethnia/eth_model.json\", \"w\") as json_file:\n",
    "    json_file.write(ethnic_model_json)\n",
    "# serialize weights to HDF5\n",
    "eth_model.save_weights(\"models/ethnia/eth_model.h5\")\n",
    "print(\"Saved model to disk\")"
   ]
  },
  {
   "cell_type": "markdown",
   "metadata": {},
   "source": [
    "### Testing the models"
   ]
  },
  {
   "cell_type": "markdown",
   "metadata": {},
   "source": [
    "#### Since our pixel data is a string, we turn it into something more usefull"
   ]
  },
  {
   "cell_type": "code",
   "execution_count": 79,
   "metadata": {},
   "outputs": [],
   "source": [
    "data['pixels'] = data['pixels'].map(lambda x: np.array(x.split(' '), dtype=np.float32).reshape(48, 48))"
   ]
  },
  {
   "cell_type": "markdown",
   "metadata": {},
   "source": [
    "#### Function that use our models to predict a image we feed it"
   ]
  },
  {
   "cell_type": "code",
   "execution_count": 161,
   "metadata": {},
   "outputs": [],
   "source": [
    "def face_prediction(image):\n",
    "    \n",
    "    x = image.reshape(1, 48, 48, 1)\n",
    "    x = x / 255\n",
    "    \n",
    "    age_predict = int(AgeModel.predict(x))\n",
    "    gender_predict = int(genderModel.predict(x))\n",
    "    ethnicity_predict = np.argmax(eth_model.predict(x))\n",
    "    \n",
    "    gender = {0: 'Male', 1: 'Female'}\n",
    "    eth_group = {0: 'White', 1: 'Black', 2: 'Asian', 3: 'Indian', 4: 'Other'} \n",
    "    \n",
    "    plt.imshow(image)\n",
    "    plt.title('Age:{0}, Ethnicity:{1},Gender:{2}'.format(age_predict,eth_group[ethnicity_predict],gender[gender_predict]));\n",
    "    plt.axis('off')"
   ]
  },
  {
   "cell_type": "markdown",
   "metadata": {},
   "source": [
    "#### Show a random Face from the dataset"
   ]
  },
  {
   "cell_type": "code",
   "execution_count": 176,
   "metadata": {},
   "outputs": [
    {
     "data": {
      "text/plain": [
       "<matplotlib.image.AxesImage at 0x7f9e01d03040>"
      ]
     },
     "execution_count": 176,
     "metadata": {},
     "output_type": "execute_result"
    },
    {
     "data": {
      "image/png": "[encoded data removed]",
      "text/plain": [
       "<Figure size 432x288 with 1 Axes>"
      ]
     },
     "metadata": {
      "needs_background": "light"
     },
     "output_type": "display_data"
    }
   ],
   "source": [
    "random_face = np.random.choice(len(data))\n",
    "\n",
    "age = data['age'][random_face]\n",
    "ethnicity = data['ethnicity'][random_face]\n",
    "gender = data['gender'][random_face]\n",
    "gender_plt = {0: 'Male', 1: 'Female'}\n",
    "eth_group_plt = {0: 'White', 1: 'Black', 2: 'Asian', 3: 'Indian', 4: 'Other'} \n",
    "\n",
    "plt.title('Age: {0}, Ethnicity: {1}, gender: {2}'.format(age, eth_group_plt[ethnicity], gender_plt[gender]));\n",
    "plt.imshow(data['pixels'][random_face])\n",
    "\n"
   ]
  },
  {
   "cell_type": "markdown",
   "metadata": {},
   "source": [
    "#### Predict the labels from the random face"
   ]
  },
  {
   "cell_type": "code",
   "execution_count": 177,
   "metadata": {},
   "outputs": [
    {
     "data": {
      "image/png": "[encoded data removed]",
      "text/plain": [
       "<Figure size 432x288 with 1 Axes>"
      ]
     },
     "metadata": {
      "needs_background": "light"
     },
     "output_type": "display_data"
    }
   ],
   "source": [
    "face_prediction(data['pixels'][random_face])"
   ]
  },
  {
   "cell_type": "code",
   "execution_count": null,
   "metadata": {},
   "outputs": [],
   "source": []
  }
 ],
 "metadata": {
  "interpreter": {
   "hash": "916dbcbb3f70747c44a77c7bcd40155683ae19c65e1c03b4aa3499c5328201f1"
  },
  "kernelspec": {
   "display_name": "Python 3.8.10 64-bit",
   "language": "python",
   "name": "python3"
  },
  "language_info": {
   "codemirror_mode": {
    "name": "ipython",
    "version": 3
   },
   "file_extension": ".py",
   "mimetype": "text/x-python",
   "name": "python",
   "nbconvert_exporter": "python",
   "pygments_lexer": "ipython3",
   "version": "3.8.10"
  },
  "orig_nbformat": 4
 },
 "nbformat": 4,
 "nbformat_minor": 2
}
