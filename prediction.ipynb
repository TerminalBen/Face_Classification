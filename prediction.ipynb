{
 "cells": [
  {
   "cell_type": "markdown",
   "metadata": {},
   "source": [
    "# Predictions"
   ]
  },
  {
   "cell_type": "code",
   "execution_count": null,
   "metadata": {},
   "outputs": [],
   "source": [
    "!pip3 install sklearn"
   ]
  },
  {
   "cell_type": "markdown",
   "metadata": {},
   "source": [
    "### Model for Gender prediction "
   ]
  },
  {
   "cell_type": "markdown",
   "metadata": {},
   "source": [
    "Importing the tensorflow framework and setting up the environment"
   ]
  },
  {
   "cell_type": "code",
   "execution_count": 88,
   "metadata": {},
   "outputs": [],
   "source": [
    "import tensorflow as tf\n",
    "import tensorflow.keras.layers as layers\n",
    "import tensorflow.keras.callbacks as callbacks\n",
    "from sklearn.model_selection import train_test_split\n",
    "import numpy as np\n",
    "import os\n",
    "os.environ['TF_CPP_MIN_LOG_LEVEL'] = '2'\n",
    "import pandas as pd\n",
    "import matplotlib.pyplot as plt"
   ]
  },
  {
   "cell_type": "code",
   "execution_count": 4,
   "metadata": {},
   "outputs": [],
   "source": [
    "data=pd.read_csv(\"dataset/dataset.csv\")\n",
    "data=data.drop(\"img_name\",axis=1)\n",
    "columns = [\"age\", \"ethnicity\", \"gender\"]\n",
    "y = data.drop(\"pixels\", axis=1)\n",
    "x = data.drop(columns, axis=1)\n"
   ]
  },
  {
   "cell_type": "code",
   "execution_count": 5,
   "metadata": {},
   "outputs": [
    {
     "name": "stdout",
     "output_type": "stream",
     "text": [
      "2304 48 48\n"
     ]
    },
    {
     "name": "stderr",
     "output_type": "stream",
     "text": [
      "/tmp/ipykernel_10805/4050057615.py:7: DeprecationWarning: `np.int` is a deprecated alias for the builtin `int`. To silence this warning, use `int` by itself. Doing this will not modify any behavior and is safe. When replacing `np.int`, you may wish to use e.g. `np.int64` or `np.int32` to specify the precision. If you wish to review your current use, check the release note link for additional information.\n",
      "Deprecated in NumPy 1.20; for more details and guidance: https://numpy.org/devdocs/release/1.20.0-notes.html#deprecations\n",
      "  x = x.apply(lambda x: np.array(list(map(lambda z: np.int(z), x))))\n"
     ]
    },
    {
     "name": "stdout",
     "output_type": "stream",
     "text": [
      "x shape:  (23705, 48, 48, 1)\n"
     ]
    }
   ],
   "source": [
    "num_pixels = len(x['pixels'][0].split(\" \"))\n",
    "img_height = int(np.sqrt(len(x['pixels'][0].split(\" \"))))\n",
    "img_width = int(np.sqrt(len(x['pixels'][0].split(\" \"))))\n",
    "print(num_pixels, img_height, img_width)\n",
    "x = pd.Series(x[\"pixels\"])\n",
    "x = x.apply(lambda x: x.split(' '))\n",
    "x = x.apply(lambda x: np.array(list(map(lambda z: np.int(z), x))))\n",
    "x = np.array(x)\n",
    "x = np.stack(np.array(x), axis=0)\n",
    "x = np.reshape(x, (-1, 48, 48))\n",
    "\n",
    "# reshape data\n",
    "x = x.reshape(-1, 48, 48, 1)\n",
    "print(\"x shape: \", x.shape)\n"
   ]
  },
  {
   "cell_type": "markdown",
   "metadata": {},
   "source": [
    "Splitting the data for test and train. x has been previosly been defined as the pixels column from the dataset(its the feature class), and y is the gender class(targetclass). \n",
    "- X_train - is the pixel data for training\n",
    "- y_train - is the gender data for training\n",
    "- X_test - is the pixel data for testing\n",
    "- y_test - is the gender data for testing\n",
    "\n",
    "the size of the training set has been set on 22% of the data, with a random number generator seed 37"
   ]
  },
  {
   "cell_type": "code",
   "execution_count": 6,
   "metadata": {},
   "outputs": [],
   "source": [
    "y = y['gender']\n",
    "\n",
    "X_train, X_test, y_train, y_test = train_test_split(\n",
    "    x, y, test_size=0.22, random_state=37\n",
    ")"
   ]
  },
  {
   "cell_type": "code",
   "execution_count": 97,
   "metadata": {},
   "outputs": [],
   "source": [
    "early_stopping = callbacks.EarlyStopping(\n",
    "    min_delta=0.001, # minimium amount of change to count as an improvement\n",
    "    patience=10, # how many epochs to wait before stopping\n",
    "    restore_best_weights=True,\n",
    ")"
   ]
  },
  {
   "cell_type": "markdown",
   "metadata": {},
   "source": [
    "### The GenderModel"
   ]
  },
  {
   "cell_type": "markdown",
   "metadata": {},
   "source": [
    "For our model we are using Keras CNN's.\n",
    " A Sequencial model is a linear stack of layers. In our case we have a depth of 10 layers(input and output included). as input we take a 48x48 image. the next layer "
   ]
  },
  {
   "cell_type": "markdown",
   "metadata": {},
   "source": [
    "Conv2D(2D convolution layer for blurring, sharpening, embossing, edge detection, and more by doing a convolution between a kernel and an image), with  a rectifier linear Unit Activation, and it 'zooms' in from the 48x48 image to ignore image margins."
   ]
  },
  {
   "cell_type": "markdown",
   "metadata": {},
   "source": [
    "Batch normalization is a method used to make artificial neural networks faster and more stable through normalization of the layers' inputs by re-centering and re-scaling. so th ebatch normalization layer re-scales the data after the convolution takes place. It's usually a good practice to normalize the data in the network."
   ]
  },
  {
   "cell_type": "markdown",
   "metadata": {},
   "source": [
    "MaxPooling2D - Pooling layers are used to reduce the dimensions of the feature maps. Thus, it reduces the number of parameters to learn and the amount of computation performed in the network.This makes the model more robust to variations."
   ]
  },
  {
   "cell_type": "markdown",
   "metadata": {},
   "source": [
    "![title](presentation/maxPool.png)"
   ]
  },
  {
   "cell_type": "markdown",
   "metadata": {},
   "source": [
    "The flattening layer transformes the pooled data from the pooling layer and transforms it into a long vector of input data that can be passed to the next dense layer for more processing.\n"
   ]
  },
  {
   "cell_type": "markdown",
   "metadata": {},
   "source": [
    "![title](presentation/flattening.png)"
   ]
  },
  {
   "cell_type": "markdown",
   "metadata": {},
   "source": [
    "![title](presentation/flattening2.png)"
   ]
  },
  {
   "cell_type": "markdown",
   "metadata": {},
   "source": [
    "Finally our model has a dropout layer that helps to correct a possible overfitting.We randomly drop out some fraction of a layer's input units every step of training, making it much harder for the network to learn those spurious patterns in the training data. Instead, it has to search for broad, general patterns, whose weight patterns tend to be more robust. In our case we are dropping 30% ot the connections.\n",
    "\n",
    "Our last layer produces the output hence the seize of one unit. As activation we are using a sigmod function that tends to work very well for Binary Classification."
   ]
  },
  {
   "cell_type": "code",
   "execution_count": 18,
   "metadata": {},
   "outputs": [],
   "source": [
    "inputShape = (48,48,1)\n",
    "\n",
    "genderModel = tf.keras.Sequential([\n",
    "    layers.InputLayer(input_shape=inputShape),\n",
    "    layers.Conv2D(32,(3,3),activation='relu',input_shape = (32,32,3)),\n",
    "    layers.BatchNormalization(),\n",
    "    layers.MaxPooling2D((2,2)),\n",
    "    layers.Conv2D(64, (3, 3), activation='relu'),\n",
    "    layers.MaxPooling2D((2, 2)),\n",
    "    layers.Flatten(),\n",
    "    layers.Dense(64, activation='relu'),\n",
    "    layers.Dropout(rate=0.3),\n",
    "    layers.Dense(1, activation='sigmoid')\n",
    "])"
   ]
  },
  {
   "cell_type": "markdown",
   "metadata": {},
   "source": [
    "### Compiling the model\n",
    "We chose to compile our model with the sgd optimizer. We did tests before with the adam optimizer, but we decided to stick with SGD because we got better results with it. Both SGM and ADAM are popular gradient descent algorithms, that can be found in use in most Tutorials and bibliography."
   ]
  },
  {
   "cell_type": "markdown",
   "metadata": {},
   "source": [
    "Since our Gender prediction is a Binary classification Problem, for  our loss funciton we decided to use BinaryCrossentropy. For metrics we are only using accuracy. \n",
    "\n",
    "https://www.dlology.com/blog/how-to-choose-last-layer-activation-and-loss-function/"
   ]
  },
  {
   "cell_type": "markdown",
   "metadata": {},
   "source": [
    "![title](presentation/types_of_activation_&_loss.png)"
   ]
  },
  {
   "cell_type": "code",
   "execution_count": 21,
   "metadata": {},
   "outputs": [],
   "source": [
    "genderModel.compile(optimizer='sgd',\n",
    "              loss=tf.keras.losses.BinaryCrossentropy(),\n",
    "              metrics=['accuracy'])\n"
   ]
  },
  {
   "cell_type": "markdown",
   "metadata": {},
   "source": [
    "After training the model a couple of times, the training history graph tells me that i get at best 27% of prediction Success. Therefor a stoppin function is created after reaching that metric"
   ]
  },
  {
   "cell_type": "code",
   "execution_count": 22,
   "metadata": {},
   "outputs": [],
   "source": [
    "class customStopping(tf.keras.callbacks.Callback):\n",
    "    def on_epoch_end(self, epoch, logs={}):\n",
    "        if(logs.get('val_loss')<0.27):\n",
    "            print(\"\\nReached 0.2700 val_loss! cancelling training!\")\n",
    "            self.model.stop_training = True"
   ]
  },
  {
   "cell_type": "markdown",
   "metadata": {},
   "source": [
    "### Overview of our model"
   ]
  },
  {
   "cell_type": "code",
   "execution_count": 23,
   "metadata": {},
   "outputs": [
    {
     "name": "stdout",
     "output_type": "stream",
     "text": [
      "Model: \"sequential\"\n",
      "_________________________________________________________________\n",
      " Layer (type)                Output Shape              Param #   \n",
      "=================================================================\n",
      " conv2d (Conv2D)             (None, 46, 46, 32)        320       \n",
      "                                                                 \n",
      " batch_normalization (BatchN  (None, 46, 46, 32)       128       \n",
      " ormalization)                                                   \n",
      "                                                                 \n",
      " max_pooling2d (MaxPooling2D  (None, 23, 23, 32)       0         \n",
      " )                                                               \n",
      "                                                                 \n",
      " conv2d_1 (Conv2D)           (None, 21, 21, 64)        18496     \n",
      "                                                                 \n",
      " max_pooling2d_1 (MaxPooling  (None, 10, 10, 64)       0         \n",
      " 2D)                                                             \n",
      "                                                                 \n",
      " flatten (Flatten)           (None, 6400)              0         \n",
      "                                                                 \n",
      " dense (Dense)               (None, 64)                409664    \n",
      "                                                                 \n",
      " dropout (Dropout)           (None, 64)                0         \n",
      "                                                                 \n",
      " dense_1 (Dense)             (None, 1)                 65        \n",
      "                                                                 \n",
      "=================================================================\n",
      "Total params: 428,673\n",
      "Trainable params: 428,609\n",
      "Non-trainable params: 64\n",
      "_________________________________________________________________\n"
     ]
    }
   ],
   "source": [
    "genderModel.summary()"
   ]
  },
  {
   "cell_type": "markdown",
   "metadata": {},
   "source": [
    "### Fit the data\n",
    "fit the model with the training data, with a batch size of 64 Samples.The batch size is a hyperparameter that defines the number of samples to work through before updating the internal model parameters. Validation Split is the sample of data used to provide an unbiased evaluation of a model fit on the training dataset while tuning model hyperparameters. we are using 10% of the dataset. As callbacks we are using earlyStopping and a custom function defined above."
   ]
  },
  {
   "cell_type": "code",
   "execution_count": null,
   "metadata": {},
   "outputs": [],
   "source": [
    "history = genderModel.fit(\n",
    "    X_train, y_train, epochs=15, batch_size=64,validation_split=0.1, callbacks=[early_stopping],\n",
    ")"
   ]
  },
  {
   "cell_type": "markdown",
   "metadata": {},
   "source": [
    "### Evaluating our model's training"
   ]
  },
  {
   "cell_type": "code",
   "execution_count": null,
   "metadata": {},
   "outputs": [
    {
     "name": "stdout",
     "output_type": "stream",
     "text": [
      "Gender Model Training history\n",
      "Minimum validation loss: 0.2739487886428833\n"
     ]
    },
    {
     "data": {
      "image/png": "[encoded data removed]",
      "text/plain": [
       "<Figure size 432x288 with 1 Axes>"
      ]
     },
     "metadata": {},
     "output_type": "display_data"
    }
   ],
   "source": [
    "history_df = pd.DataFrame(history.history)\n",
    "history_df.loc[:, ['loss', 'val_loss']].plot();\n",
    "print(\"Gender Model Training history\")\n",
    "print(\"Minimum validation loss: {}\".format(history_df['val_loss'].min()))"
   ]
  },
  {
   "cell_type": "code",
   "execution_count": null,
   "metadata": {},
   "outputs": [
    {
     "data": {
      "text/html": [
       "<div>\n",
       "<style scoped>\n",
       "    .dataframe tbody tr th:only-of-type {\n",
       "        vertical-align: middle;\n",
       "    }\n",
       "\n",
       "    .dataframe tbody tr th {\n",
       "        vertical-align: top;\n",
       "    }\n",
       "\n",
       "    .dataframe thead th {\n",
       "        text-align: right;\n",
       "    }\n",
       "</style>\n",
       "<table border=\"1\" class=\"dataframe\">\n",
       "  <thead>\n",
       "    <tr style=\"text-align: right;\">\n",
       "      <th></th>\n",
       "      <th>loss</th>\n",
       "      <th>accuracy</th>\n",
       "      <th>val_loss</th>\n",
       "      <th>val_accuracy</th>\n",
       "    </tr>\n",
       "  </thead>\n",
       "  <tbody>\n",
       "    <tr>\n",
       "      <th>0</th>\n",
       "      <td>0.492931</td>\n",
       "      <td>0.763221</td>\n",
       "      <td>0.382539</td>\n",
       "      <td>0.834505</td>\n",
       "    </tr>\n",
       "    <tr>\n",
       "      <th>1</th>\n",
       "      <td>0.364418</td>\n",
       "      <td>0.837921</td>\n",
       "      <td>0.353724</td>\n",
       "      <td>0.839913</td>\n",
       "    </tr>\n",
       "    <tr>\n",
       "      <th>2</th>\n",
       "      <td>0.324069</td>\n",
       "      <td>0.856310</td>\n",
       "      <td>0.323495</td>\n",
       "      <td>0.860465</td>\n",
       "    </tr>\n",
       "    <tr>\n",
       "      <th>3</th>\n",
       "      <td>0.303246</td>\n",
       "      <td>0.867308</td>\n",
       "      <td>0.315849</td>\n",
       "      <td>0.858843</td>\n",
       "    </tr>\n",
       "    <tr>\n",
       "      <th>4</th>\n",
       "      <td>0.286295</td>\n",
       "      <td>0.875120</td>\n",
       "      <td>0.309241</td>\n",
       "      <td>0.868037</td>\n",
       "    </tr>\n",
       "  </tbody>\n",
       "</table>\n",
       "</div>"
      ],
      "text/plain": [
       "       loss  accuracy  val_loss  val_accuracy\n",
       "0  0.492931  0.763221  0.382539      0.834505\n",
       "1  0.364418  0.837921  0.353724      0.839913\n",
       "2  0.324069  0.856310  0.323495      0.860465\n",
       "3  0.303246  0.867308  0.315849      0.858843\n",
       "4  0.286295  0.875120  0.309241      0.868037"
      ]
     },
     "metadata": {},
     "output_type": "display_data"
    }
   ],
   "source": [
    "history_df.head()"
   ]
  },
  {
   "cell_type": "markdown",
   "metadata": {},
   "source": [
    "### Saving Model and weights to Disk"
   ]
  },
  {
   "cell_type": "code",
   "execution_count": null,
   "metadata": {},
   "outputs": [],
   "source": [
    "from keras.models import model_from_json\n",
    "gender_model_json = genderModel.to_json()\n",
    "with open(\"models/gender/gender_model.json\", \"w\") as json_file:\n",
    "    json_file.write(gender_model_json)\n",
    "# serialize weights to HDF5\n",
    "genderModel.save_weights(\"models/gender/gender_model.h5\")\n",
    "print(\"Saved model to disk\")"
   ]
  },
  {
   "cell_type": "markdown",
   "metadata": {},
   "source": [
    "### load model from disk\n"
   ]
  },
  {
   "cell_type": "code",
   "execution_count": 19,
   "metadata": {},
   "outputs": [
    {
     "name": "stdout",
     "output_type": "stream",
     "text": [
      "Loaded model from disk\n"
     ]
    }
   ],
   "source": [
    "from keras.models import model_from_json\n",
    "\n",
    "json_file = open('models/gender/gender_model.json', 'r')\n",
    "loaded_model_json = json_file.read()\n",
    "json_file.close()\n",
    "loaded_model = model_from_json(loaded_model_json)\n",
    "# load weights into new model\n",
    "loaded_model.load_weights(\"models/gender/gender_model.h5\")\n",
    "print(\"Loaded model from disk\")\n"
   ]
  },
  {
   "cell_type": "markdown",
   "metadata": {},
   "source": [
    "## Age Model"
   ]
  },
  {
   "cell_type": "code",
   "execution_count": 85,
   "metadata": {},
   "outputs": [],
   "source": [
    "y = data['age']\n",
    "\n",
    "X_train, X_test, y_train, y_test = train_test_split(\n",
    "    x, y, test_size=0.22, random_state=37\n",
    ")"
   ]
  },
  {
   "cell_type": "code",
   "execution_count": 108,
   "metadata": {},
   "outputs": [],
   "source": [
    "AgeModel = tf.keras.Sequential([\n",
    "    layers.InputLayer(input_shape=(48,48,1)),\n",
    "    layers.Conv2D(32, (3, 3), activation='relu', input_shape=(32, 32, 3)),\n",
    "    layers.BatchNormalization(),\n",
    "    layers.MaxPooling2D((2, 2)),\n",
    "    layers.Conv2D(64, (3, 3), activation='relu'),\n",
    "    layers.MaxPooling2D((2, 2)),\n",
    "    layers.Conv2D(128, (3, 3), activation='relu'),\n",
    "    layers.MaxPooling2D((2, 2)),\n",
    "    layers.Flatten(),\n",
    "    layers.Dense(64, activation='relu'),\n",
    "    layers.Dropout(rate=0.5),\n",
    "    layers.Dense(1, activation='relu')\n",
    "])"
   ]
  },
  {
   "cell_type": "code",
   "execution_count": 109,
   "metadata": {},
   "outputs": [],
   "source": [
    "AgeModel.compile(optimizer='adam',\n",
    "              loss='mean_squared_error',\n",
    "              metrics=['mae'])\n"
   ]
  },
  {
   "cell_type": "code",
   "execution_count": null,
   "metadata": {},
   "outputs": [],
   "source": [
    "class myCallback(tf.keras.callbacks.Callback):\n",
    "    def on_epoch_end(self, epoch, logs={}):\n",
    "        if(logs.get('val_loss')<110):\n",
    "            print(\"\\nReached 110 val_loss so cancelling training!\")\n",
    "            self.model.stop_training = True"
   ]
  },
  {
   "cell_type": "code",
   "execution_count": 110,
   "metadata": {},
   "outputs": [
    {
     "name": "stdout",
     "output_type": "stream",
     "text": [
      "Model: \"sequential_3\"\n",
      "_________________________________________________________________\n",
      " Layer (type)                Output Shape              Param #   \n",
      "=================================================================\n",
      " conv2d_9 (Conv2D)           (None, 46, 46, 32)        320       \n",
      "                                                                 \n",
      " batch_normalization_3 (Batc  (None, 46, 46, 32)       128       \n",
      " hNormalization)                                                 \n",
      "                                                                 \n",
      " max_pooling2d_9 (MaxPooling  (None, 23, 23, 32)       0         \n",
      " 2D)                                                             \n",
      "                                                                 \n",
      " conv2d_10 (Conv2D)          (None, 21, 21, 64)        18496     \n",
      "                                                                 \n",
      " max_pooling2d_10 (MaxPoolin  (None, 10, 10, 64)       0         \n",
      " g2D)                                                            \n",
      "                                                                 \n",
      " conv2d_11 (Conv2D)          (None, 8, 8, 128)         73856     \n",
      "                                                                 \n",
      " max_pooling2d_11 (MaxPoolin  (None, 4, 4, 128)        0         \n",
      " g2D)                                                            \n",
      "                                                                 \n",
      " flatten_3 (Flatten)         (None, 2048)              0         \n",
      "                                                                 \n",
      " dense_6 (Dense)             (None, 64)                131136    \n",
      "                                                                 \n",
      " dropout_3 (Dropout)         (None, 64)                0         \n",
      "                                                                 \n",
      " dense_7 (Dense)             (None, 1)                 65        \n",
      "                                                                 \n",
      "=================================================================\n",
      "Total params: 224,001\n",
      "Trainable params: 223,937\n",
      "Non-trainable params: 64\n",
      "_________________________________________________________________\n"
     ]
    }
   ],
   "source": [
    "AgeModel.summary()"
   ]
  },
  {
   "cell_type": "code",
   "execution_count": 106,
   "metadata": {},
   "outputs": [],
   "source": [
    "class customStopping2(tf.keras.callbacks.Callback):\n",
    "    def on_epoch_end(self, epoch, logs={}):\n",
    "        if(logs.get('val_loss')<97):\n",
    "            print(\"\\nReached 97 val_loss so cancelling training!\")\n",
    "            self.model.stop_training = True"
   ]
  },
  {
   "cell_type": "code",
   "execution_count": null,
   "metadata": {},
   "outputs": [],
   "source": [
    "history1 = AgeModel.fit(\n",
    "    X_train, y_train, epochs=15, validation_split=0.1, batch_size=64, callbacks=[early_stopping,customStopping2()],\n",
    ")"
   ]
  },
  {
   "cell_type": "code",
   "execution_count": 112,
   "metadata": {},
   "outputs": [
    {
     "name": "stdout",
     "output_type": "stream",
     "text": [
      "Age Model Training history- With stopping function\n",
      "Minimum validation loss: 98.32288360595703\n"
     ]
    },
    {
     "data": {
      "image/png": "[encoded data removed]",
      "text/plain": [
       "<Figure size 432x288 with 1 Axes>"
      ]
     },
     "metadata": {
      "needs_background": "light"
     },
     "output_type": "display_data"
    }
   ],
   "source": [
    "history_df_age = pd.DataFrame(history1.history)\n",
    "history_df_age.loc[:, ['loss', 'val_loss']].plot();\n",
    "print(\"Age Model Training history- With stopping function\")\n",
    "print(\"Minimum validation loss: {}\".format(history_df_age['val_loss'].min()))"
   ]
  },
  {
   "cell_type": "code",
   "execution_count": 113,
   "metadata": {},
   "outputs": [
    {
     "name": "stdout",
     "output_type": "stream",
     "text": [
      "Saved model to disk\n"
     ]
    }
   ],
   "source": [
    "from keras.models import model_from_json\n",
    "age_model_json = AgeModel.to_json()\n",
    "with open(\"models/age/age_model.json\", \"w\") as json_file:\n",
    "    json_file.write(age_model_json)\n",
    "# serialize weights to HDF5\n",
    "AgeModel.save_weights(\"models/age/age_model.h5\")\n",
    "print(\"Saved model to disk\")"
   ]
  },
  {
   "cell_type": "markdown",
   "metadata": {},
   "source": [
    "## Ethnicity Model"
   ]
  },
  {
   "cell_type": "code",
   "execution_count": 115,
   "metadata": {},
   "outputs": [],
   "source": [
    "y = data['ethnicity']\n",
    "\n",
    "X_train, X_test, y_train, y_test = train_test_split(\n",
    "    x, y, test_size=0.22, random_state=37\n",
    ")"
   ]
  },
  {
   "cell_type": "markdown",
   "metadata": {},
   "source": [
    "The model has the usual layer types, differing only on the last layer activation type.\n",
    "Pushing the \"softmax\" activation into the cross-entropy loss layer significantly simplifies the loss computation and makes it more numerically stable."
   ]
  },
  {
   "cell_type": "code",
   "execution_count": 134,
   "metadata": {},
   "outputs": [],
   "source": [
    "eth_model = tf.keras.Sequential([\n",
    "    layers.InputLayer(input_shape=(48,48,1)),\n",
    "    layers.Conv2D(32, (3, 3), activation='relu', input_shape=(32, 32, 3)),\n",
    "    layers.MaxPooling2D((2, 2)),\n",
    "    layers.Conv2D(64, (3, 3), activation='relu'),\n",
    "    layers.MaxPooling2D((2, 2)),\n",
    "    layers.Flatten(),\n",
    "    layers.Dense(64, activation='relu'),\n",
    "    layers.Dropout(rate=0.5),\n",
    "    layers.Dense(5,activation='softmax')\n",
    "])"
   ]
  },
  {
   "cell_type": "markdown",
   "metadata": {},
   "source": [
    "We are still using adam as our otimizer,\n",
    "The usage of SparceCategoriacCrossEntropy is because our data are integers, and not one-hot encoded[0,1]"
   ]
  },
  {
   "cell_type": "code",
   "execution_count": 135,
   "metadata": {},
   "outputs": [],
   "source": [
    "eth_model.compile(optimizer='adam',\n",
    "              loss=tf.keras.losses.SparseCategoricalCrossentropy(from_logits=True),\n",
    "              metrics=['accuracy'])"
   ]
  },
  {
   "cell_type": "code",
   "execution_count": 130,
   "metadata": {},
   "outputs": [],
   "source": [
    "class customStopping3(tf.keras.callbacks.Callback):\n",
    "    def on_epoch_end(self, epoch, logs={}):\n",
    "        if(logs.get('val_accuracy')>0.79):\n",
    "            print(\"\\nReached 79% val_accuracy so cancelling training!\")\n",
    "            self.model.stop_training = True"
   ]
  },
  {
   "cell_type": "code",
   "execution_count": 136,
   "metadata": {},
   "outputs": [
    {
     "name": "stdout",
     "output_type": "stream",
     "text": [
      "Model: \"sequential_6\"\n",
      "_________________________________________________________________\n",
      " Layer (type)                Output Shape              Param #   \n",
      "=================================================================\n",
      " conv2d_16 (Conv2D)          (None, 46, 46, 32)        320       \n",
      "                                                                 \n",
      " max_pooling2d_16 (MaxPoolin  (None, 23, 23, 32)       0         \n",
      " g2D)                                                            \n",
      "                                                                 \n",
      " conv2d_17 (Conv2D)          (None, 21, 21, 64)        18496     \n",
      "                                                                 \n",
      " max_pooling2d_17 (MaxPoolin  (None, 10, 10, 64)       0         \n",
      " g2D)                                                            \n",
      "                                                                 \n",
      " flatten_6 (Flatten)         (None, 6400)              0         \n",
      "                                                                 \n",
      " dense_12 (Dense)            (None, 64)                409664    \n",
      "                                                                 \n",
      " dropout_6 (Dropout)         (None, 64)                0         \n",
      "                                                                 \n",
      " dense_13 (Dense)            (None, 5)                 325       \n",
      "                                                                 \n",
      "=================================================================\n",
      "Total params: 428,805\n",
      "Trainable params: 428,805\n",
      "Non-trainable params: 0\n",
      "_________________________________________________________________\n"
     ]
    }
   ],
   "source": [
    "eth_model.summary()"
   ]
  },
  {
   "cell_type": "code",
   "execution_count": 137,
   "metadata": {},
   "outputs": [
    {
     "name": "stdout",
     "output_type": "stream",
     "text": [
      "Epoch 1/15\n",
      "260/260 [==============================] - 17s 65ms/step - loss: 2.2678 - accuracy: 0.4191 - val_loss: 1.1734 - val_accuracy: 0.5014\n",
      "Epoch 2/15\n",
      "260/260 [==============================] - 16s 62ms/step - loss: 1.2663 - accuracy: 0.4998 - val_loss: 1.0476 - val_accuracy: 0.5900\n",
      "Epoch 3/15\n",
      "260/260 [==============================] - 17s 65ms/step - loss: 1.1874 - accuracy: 0.5313 - val_loss: 1.0369 - val_accuracy: 0.6101\n",
      "Epoch 4/15\n",
      "260/260 [==============================] - 19s 72ms/step - loss: 1.1516 - accuracy: 0.5518 - val_loss: 0.9125 - val_accuracy: 0.6668\n",
      "Epoch 5/15\n",
      "260/260 [==============================] - 17s 66ms/step - loss: 1.0959 - accuracy: 0.5749 - val_loss: 0.8968 - val_accuracy: 0.6679\n",
      "Epoch 6/15\n",
      "260/260 [==============================] - 17s 66ms/step - loss: 1.0678 - accuracy: 0.5879 - val_loss: 0.8619 - val_accuracy: 0.7015\n",
      "Epoch 7/15\n",
      "260/260 [==============================] - 16s 62ms/step - loss: 1.0369 - accuracy: 0.6012 - val_loss: 0.8318 - val_accuracy: 0.7020\n",
      "Epoch 8/15\n",
      "260/260 [==============================] - 19s 72ms/step - loss: 1.0171 - accuracy: 0.6082 - val_loss: 0.8167 - val_accuracy: 0.7193\n",
      "Epoch 9/15\n",
      "260/260 [==============================] - 21s 81ms/step - loss: 0.9695 - accuracy: 0.6287 - val_loss: 0.8334 - val_accuracy: 0.7107\n",
      "Epoch 10/15\n",
      "260/260 [==============================] - 23s 88ms/step - loss: 0.9562 - accuracy: 0.6324 - val_loss: 0.7857 - val_accuracy: 0.7285\n",
      "Epoch 11/15\n",
      "260/260 [==============================] - 23s 87ms/step - loss: 0.9437 - accuracy: 0.6373 - val_loss: 0.7716 - val_accuracy: 0.7307\n",
      "Epoch 12/15\n",
      "260/260 [==============================] - 23s 87ms/step - loss: 0.9241 - accuracy: 0.6396 - val_loss: 0.7702 - val_accuracy: 0.7393\n",
      "Epoch 13/15\n",
      "260/260 [==============================] - 23s 88ms/step - loss: 0.9200 - accuracy: 0.6438 - val_loss: 0.7628 - val_accuracy: 0.7307\n",
      "Epoch 14/15\n",
      "260/260 [==============================] - 23s 90ms/step - loss: 0.8918 - accuracy: 0.6555 - val_loss: 0.7457 - val_accuracy: 0.7453\n",
      "Epoch 15/15\n",
      "260/260 [==============================] - 24s 91ms/step - loss: 0.8998 - accuracy: 0.6513 - val_loss: 0.7558 - val_accuracy: 0.7469\n"
     ]
    }
   ],
   "source": [
    "history2 = eth_model.fit(\n",
    "    X_train, y_train, epochs=15, validation_split=0.1, batch_size=64,\n",
    ")"
   ]
  },
  {
   "cell_type": "code",
   "execution_count": 138,
   "metadata": {},
   "outputs": [
    {
     "name": "stdout",
     "output_type": "stream",
     "text": [
      "Ethnic Model Training history- No stopping function + ADAM + no_last_activation\n",
      "Minimum validation loss: 0.7457478046417236\n"
     ]
    },
    {
     "data": {
      "image/png": "[encoded data removed]",
      "text/plain": [
       "<Figure size 432x288 with 1 Axes>"
      ]
     },
     "metadata": {
      "needs_background": "light"
     },
     "output_type": "display_data"
    }
   ],
   "source": [
    "history_df_eth = pd.DataFrame(history2.history)\n",
    "history_df_eth.loc[:, ['loss', 'val_loss']].plot();\n",
    "print(\"Ethnic Model Training history- No stopping function + ADAM \")\n",
    "print(\"Minimum validation loss: {}\".format(history_df_eth['val_loss'].min()))"
   ]
  },
  {
   "cell_type": "code",
   "execution_count": 139,
   "metadata": {},
   "outputs": [
    {
     "name": "stdout",
     "output_type": "stream",
     "text": [
      "Ethnic Model Training history- No stopping function + ADAM + no_last_Activation\n",
      "Maximum validation Accuracy: 0.7468901872634888\n"
     ]
    },
    {
     "data": {
      "image/png": "[encoded data removed]",
      "text/plain": [
       "<Figure size 432x288 with 1 Axes>"
      ]
     },
     "metadata": {
      "needs_background": "light"
     },
     "output_type": "display_data"
    }
   ],
   "source": [
    "history_df_eth = pd.DataFrame(history2.history)\n",
    "history_df_eth.loc[:, ['accuracy', 'val_accuracy']].plot();\n",
    "print(\"Ethnic Model Training history- No stopping function + ADAM \")\n",
    "print(\"Maximum validation Accuracy: {}\".format(history_df_eth['val_accuracy'].max()))"
   ]
  },
  {
   "cell_type": "code",
   "execution_count": 141,
   "metadata": {},
   "outputs": [
    {
     "name": "stdout",
     "output_type": "stream",
     "text": [
      "Saved model to disk\n"
     ]
    }
   ],
   "source": [
    "from keras.models import model_from_json\n",
    "ethnic_model_json = eth_model.to_json()\n",
    "with open(\"models/ethnia/eth_model.json\", \"w\") as json_file:\n",
    "    json_file.write(ethnic_model_json)\n",
    "# serialize weights to HDF5\n",
    "eth_model.save_weights(\"models/ethnia/eth_model.h5\")\n",
    "print(\"Saved model to disk\")"
   ]
  }
 ],
 "metadata": {
  "interpreter": {
   "hash": "916dbcbb3f70747c44a77c7bcd40155683ae19c65e1c03b4aa3499c5328201f1"
  },
  "kernelspec": {
   "display_name": "Python 3.8.10 64-bit",
   "language": "python",
   "name": "python3"
  },
  "language_info": {
   "codemirror_mode": {
    "name": "ipython",
    "version": 3
   },
   "file_extension": ".py",
   "mimetype": "text/x-python",
   "name": "python",
   "nbconvert_exporter": "python",
   "pygments_lexer": "ipython3",
   "version": "3.8.10"
  },
  "orig_nbformat": 4
 },
 "nbformat": 4,
 "nbformat_minor": 2
}
